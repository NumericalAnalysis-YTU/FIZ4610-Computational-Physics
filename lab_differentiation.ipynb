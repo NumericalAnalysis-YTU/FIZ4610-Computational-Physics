{
  "nbformat": 4,
  "nbformat_minor": 0,
  "metadata": {
    "colab": {
      "name": "lab9_differentiation.ipynb",
      "provenance": [],
      "include_colab_link": true
    },
    "kernelspec": {
      "name": "python3",
      "display_name": "Python 3"
    }
  },
  "cells": [
    {
      "cell_type": "markdown",
      "metadata": {
        "id": "view-in-github",
        "colab_type": "text"
      },
      "source": [
        "<a href=\"https://colab.research.google.com/github/NumericalAnalysis-YTU/FIZ4610-Computational-Physics/blob/main/lab_differentiation.ipynb\" target=\"_parent\"><img src=\"https://colab.research.google.com/assets/colab-badge.svg\" alt=\"Open In Colab\"/></a>"
      ]
    },
    {
      "cell_type": "markdown",
      "metadata": {
        "id": "q-DI-Ka3ieVM"
      },
      "source": [
        "# **Differentiation** - calculating the first derivative and the higher order derivatives"
      ]
    },
    {
      "cell_type": "code",
      "metadata": {
        "id": "O66d25NRiWHD"
      },
      "source": [
        "import numpy as np\n",
        "\n",
        "# Define the finite step\n",
        "h = 0.01\n",
        "\n",
        "# Define method\n",
        "method = 'central'\n",
        "\n",
        "# Set range for plotting\n",
        "x_min =  1\n",
        "x_max =  8\n",
        "\n",
        "# Define function\n",
        "def f(x):\n",
        "#    return 1/x\n",
        "   return 3*x**3+2*x**2+x"
      ],
      "execution_count": 20,
      "outputs": []
    },
    {
      "cell_type": "code",
      "metadata": {
        "id": "ZekcpIXisTag"
      },
      "source": [
        "\n",
        "# First derivative\n",
        "def first_c(f,a,method='central',h=0.01):\n",
        "    '''Compute the difference formula for f'(a) with step size h.\n",
        "\n",
        "    Parameters\n",
        "    ----------\n",
        "    f : function\n",
        "    a : number\n",
        "        Compute derivative at x = a\n",
        "    method : string\n",
        "        Difference formula: 'forward', 'backward' or 'central'\n",
        "    h : number\n",
        "        Step size in difference formula\n",
        "\n",
        "    Returns\n",
        "    -------\n",
        "    float\n",
        "        Difference formula:\n",
        "            central: f(a+h) - f(a-h))/2h\n",
        "            forward: f(a+h) - f(a))/h\n",
        "            backward: f(a) - f(a-h))/h            \n",
        "    '''\n",
        "    if method == 'central':\n",
        "        return (f(a + h) - f(a - h))/(2*h)\n",
        "    elif method == 'forward':\n",
        "        return (f(a + h) - f(a))/h\n",
        "    elif method == 'backward':\n",
        "        return (f(a) - f(a - h))/h\n",
        "    else:\n",
        "        raise ValueError(\"Method must be 'central', 'forward' or 'backward'.\")\n"
      ],
      "execution_count": 21,
      "outputs": []
    },
    {
      "cell_type": "code",
      "metadata": {
        "id": "39Reh83gsQN4"
      },
      "source": [
        "\n",
        "# Second derivative\n",
        "def second_c(f,a,method='central',h=0.01):\n",
        "\n",
        "    if method == 'central':\n",
        "        return (first_c(f,a + h,method,h) - first_c(f,a - h,method,h))/(2*h)\n",
        "    elif method == 'forward':\n",
        "        return (first_c(f,a + h,method,h) - first_c(f,a,method,h))/h\n",
        "    elif method == 'backward':\n",
        "        return (first_c(f,a,method,h) - first_c(f,a - h,method,h))/h\n",
        "    else:\n",
        "        raise ValueError(\"Method must be 'central', 'forward' or 'backward'.\")\n"
      ],
      "execution_count": 22,
      "outputs": []
    },
    {
      "cell_type": "code",
      "metadata": {
        "id": "w7X3LDzgsOI3"
      },
      "source": [
        "\n",
        "# Third derivative\n",
        "def third_c(f,a,method='central',h=0.01):\n",
        "\n",
        "    if method == 'central':\n",
        "        return (second_c(f,a + h,method,h) - second_c(f,a - h,method,h))/(2*h)\n",
        "    elif method == 'forward':\n",
        "        return (second_c(f,a + h,method,h) - second_c(f,a,method,h))/h\n",
        "    elif method == 'backward':\n",
        "        return (second_c(f,a,method,h) - second_c(f,a - h,method,h))/h\n",
        "    else:\n",
        "        raise ValueError(\"Method must be 'central', 'forward' or 'backward'.\")\n",
        "\n"
      ],
      "execution_count": 23,
      "outputs": []
    },
    {
      "cell_type": "markdown",
      "metadata": {
        "id": "gr4cv36-Ecfr"
      },
      "source": [
        "# **Print the function and it's derivatives**"
      ]
    },
    {
      "cell_type": "code",
      "metadata": {
        "id": "aBRXI5PtsMGV",
        "outputId": "b31c7788-f23e-442c-fb64-0b7d6b51d67b",
        "colab": {
          "base_uri": "https://localhost:8080/"
        }
      },
      "source": [
        "\n",
        "\n",
        "print(\"Using central difference: \\n\")\n",
        "print(\"     x       function     first_c      second_c              third_c\")\n",
        "for x in range(x_min,x_max):\n",
        "    print(x, f(x), first_c(f,x,method,h), second_c(f,x,method,h), third_c(f,x,method,h))\n",
        "\n"
      ],
      "execution_count": 24,
      "outputs": [
        {
          "output_type": "stream",
          "name": "stdout",
          "text": [
            "Using central difference: \n",
            "\n",
            "     x       function     first_c      second_c              third_c\n",
            "1 6 14.000299999999966 21.999999999997577 18.00000000040658\n",
            "2 34 45.00029999999917 39.99999999997783 18.000000002516003\n",
            "3 102 94.00029999999902 58.000000000006935 17.99999999363422\n",
            "4 228 161.00029999999492 75.99999999996498 18.0000000149505\n",
            "5 430 246.0002999999972 93.99999999999409 17.999999968765223\n",
            "6 726 349.0002999999831 111.99999999973898 18.00000008245206\n",
            "7 1134 470.0002999999924 129.99999999976808 17.999999982976078\n"
          ]
        }
      ]
    },
    {
      "cell_type": "markdown",
      "metadata": {
        "id": "SrEsgKsYERNM"
      },
      "source": [
        "# **Plot the function and it's derivatives**"
      ]
    },
    {
      "cell_type": "code",
      "metadata": {
        "id": "Etcry6FJvnDu",
        "outputId": "03737c91-0699-4d17-d6c7-176d52214423",
        "colab": {
          "base_uri": "https://localhost:8080/",
          "height": 520
        }
      },
      "source": [
        "# Plot the function and it's derivatives\n",
        "import matplotlib.pyplot as plt\n",
        "\n",
        "\n",
        "plt.figure(figsize=(12,8))\n",
        "plt.title(\"Function and it's derivatives\",fontsize=16) \n",
        "\n",
        "xlin = np.linspace(x_min, x_max, num=100)\n",
        "plt.plot(xlin,f(xlin),linewidth=3,color='red',linestyle='solid', label=\"function\")\n",
        "plt.plot(xlin,first_c(f,xlin,method,h),linewidth=3,color='green',linestyle='solid', label=\"first_c\")\n",
        "plt.plot(xlin,second_c(f,xlin,method,h),linewidth=3,color='blue',linestyle='solid', label=\"second_c\")\n",
        "plt.plot(xlin,third_c(f,xlin,method,h),linewidth=3,color='orange',linestyle='solid', label=\"third_c\")\n",
        "\n",
        "\n",
        "plt.legend(prop={'size':14})\n",
        "\n",
        "plt.xlabel('$x$',fontsize=15)\n",
        "plt.ylabel('$y$',fontsize=15);\n",
        "\n",
        "    \n",
        "plt.show()"
      ],
      "execution_count": 25,
      "outputs": [
        {
          "output_type": "display_data",
          "data": {
            "text/plain": [
              "<Figure size 864x576 with 1 Axes>"
            ],
            "image/png": "[encoded data removed]"
          },
          "metadata": {
            "needs_background": "light"
          }
        }
      ]
    }
  ]
}