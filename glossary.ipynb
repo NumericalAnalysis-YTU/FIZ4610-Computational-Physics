{
  "nbformat": 4,
  "nbformat_minor": 0,
  "metadata": {
    "colab": {
      "provenance": [],
      "authorship_tag": "ABX9TyNg4y3I1WiobZYtI17ARBim",
      "include_colab_link": true
    },
    "kernelspec": {
      "name": "python3",
      "display_name": "Python 3"
    },
    "language_info": {
      "name": "python"
    }
  },
  "cells": [
    {
      "cell_type": "markdown",
      "metadata": {
        "id": "view-in-github",
        "colab_type": "text"
      },
      "source": [
        "<a href=\"https://colab.research.google.com/github/NumericalAnalysis-YTU/FIZ4610-Computational-Physics/blob/main/glossary.ipynb\" target=\"_parent\"><img src=\"https://colab.research.google.com/assets/colab-badge.svg\" alt=\"Open In Colab\"/></a>"
      ]
    },
    {
      "cell_type": "markdown",
      "source": [
        "#Glossary\n",
        "\n",
        "## algorithm\n",
        "A step-by-step process for solving a category of problems.\n",
        "\n",
        "##  body\n",
        "The statements inside a loop.\n",
        "\n",
        "## breakpoint\n",
        "\n",
        "A place in your program code where program execution will pause (or break), allowing you to inspect the state of the program’s variables, or single-step through individual statements, executing them one at a time.\n",
        "\n",
        "## bump\n",
        "Programmer slang. Synonym for increment.\n",
        "\n",
        "## continue statement\n",
        "A statement that causes the remainder of the current iteration of a loop to be skipped. The flow of execution goes back to the top of the loop, evaluates the condition, and if this is true the next iteration of the loop will begin.\n",
        "\n",
        "## counter\n",
        "A variable used to count something, usually initialized to zero and incremented in the body of a loop.\n",
        "\n",
        "## cursor\n",
        "An invisible marker that keeps track of where the next character will be printed.\n",
        "\n",
        "## decrement\n",
        "Decrease by 1.\n",
        "\n",
        "## definite iteration\n",
        "A loop where we have an upper bound on the number of times the body will be executed. Definite iteration is usually best coded as a for loop.\n",
        "\n",
        "## development plan\n",
        "A process for developing a program. In this chapter, we demonstrated a style of development based on developing code to do simple, specific things and then encapsulating and generalizing.\n",
        "\n",
        "## encapsulate\n",
        "To divide a large complex program into components (like functions) and isolate the components from each other (by using local variables, for example).\n",
        "\n",
        "## escape sequence\n",
        "An escape character, \\, followed by one or more printable characters used to designate a nonprintable character.\n",
        "\n",
        "## generalize\n",
        "To replace something unnecessarily specific (like a constant value) with something appropriately general (like a variable or parameter). Generalization makes code more versatile, more likely to be reused, and sometimes even easier to write.\n",
        "\n",
        "## increment\n",
        "Both as a noun and as a verb, increment means to increase by 1.\n",
        "\n",
        "## infinite loop\n",
        "A loop in which the terminating condition is never satisfied.\n",
        "\n",
        "## indefinite iteration\n",
        "A loop where we just need to keep going until some condition is met. A while statement is used for this case.\n",
        "\n",
        "## initialization (of a variable)\n",
        "To initialize a variable is to give it an initial value. Since in Python variables don’t exist until they are assigned values, they are initialized when they are created. In other programming languages this is not the case, and variables can be created without being initialized, in which case they have either default or garbage values.\n",
        "\n",
        "## iteration\n",
        "Repeated execution of a set of programming statements.\n",
        "\n",
        "## loop\n",
        "The construct that allows allows us to repeatedly execute a statement or a group of statements until a terminating condition is satisfied.\n",
        "\n",
        "## loop variable\n",
        "A variable used as part of the terminating condition of a loop.\n",
        "\n",
        "## meta-notation\n",
        "Extra symbols or notation that helps describe other notation. Here we introduced square brackets, ellipses, italics, and bold as meta-notation to help describe optional, repeatable, substitutable and fixed parts of the Python syntax.\n",
        "\n",
        "## middle-test loop\n",
        "A loop that executes some of the body, then tests for the exit condition, and then may execute some more of the body. We don’t have a special Python construct for this case, but can use while and break together.\n",
        "\n",
        "## nested loop\n",
        "A loop inside the body of another loop.\n",
        "\n",
        "## newline\n",
        "A special character that causes the cursor to move to the beginning of the next line.\n",
        "\n",
        "## post-test loop\n",
        "A loop that executes the body, then tests for the exit condition. We don’t have a special Python construct for this, but can use while and break together.\n",
        "\n",
        "## pre-test loop\n",
        "A loop that tests before deciding whether the execute its body. for and while are both pre-test loops.\n",
        "\n",
        "## single-step\n",
        "A mode of interpreter execution where you are able to execute your program one step at a time, and inspect the consequences of that step. Useful for debugging and building your internal mental model of what is going on.\n",
        "\n",
        "## tab\n",
        "A special character that causes the cursor to move to the next tab stop on the current line.\n",
        "\n",
        "## trichotomy\n",
        "Given any real numbers a and b, exactly one of the following relations holds: a < b, a > b, or a == b. Thus when you can establish that two of the relations are false, you can assume the remaining one is true.\n",
        "\n",
        "## trace\n",
        "To follow the flow of execution of a program by hand, recording the change of state of the variables and any output produced."
      ],
      "metadata": {
        "id": "1KfLvtmZFOaE"
      }
    },
    {
      "cell_type": "code",
      "execution_count": null,
      "metadata": {
        "id": "lZmtDGSIFNtG"
      },
      "outputs": [],
      "source": []
    }
  ]
}