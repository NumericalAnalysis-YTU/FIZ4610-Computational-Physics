{
  "nbformat": 4,
  "nbformat_minor": 0,
  "metadata": {
    "colab": {
      "private_outputs": true,
      "provenance": [],
      "authorship_tag": "ABX9TyOpcoycsixiWS82j7jkYaFw",
      "include_colab_link": true
    },
    "kernelspec": {
      "name": "python3",
      "display_name": "Python 3"
    },
    "language_info": {
      "name": "python"
    }
  },
  "cells": [
    {
      "cell_type": "markdown",
      "metadata": {
        "id": "view-in-github",
        "colab_type": "text"
      },
      "source": [
        "<a href=\"https://colab.research.google.com/github/NumericalAnalysis-YTU/FIZ4610-Computational-Physics/blob/main/rootfinding.ipynb\" target=\"_parent\"><img src=\"https://colab.research.google.com/assets/colab-badge.svg\" alt=\"Open In Colab\"/></a>"
      ]
    },
    {
      "cell_type": "markdown",
      "source": [
        "#Finding roots of real functions\n",
        "\n",
        "##The bisection method\n",
        "At this point, we've probably seen a constructive proof of the intermediate value theorem. An implemenation of that leads to the bisection method!"
      ],
      "metadata": {
        "id": "NLfjnBAQlbSU"
      }
    },
    {
      "cell_type": "code",
      "execution_count": null,
      "metadata": {
        "id": "OMqqEyHYlOyf"
      },
      "outputs": [],
      "source": [
        "import numpy as np\n",
        "def bisection(f,a,b, tolerance = 10**-15, return_cnt = False):\n",
        "    y1 = f(a)\n",
        "    if y1 == 0:\n",
        "        return a\n",
        "    y2 = f(b)\n",
        "    if y2 == 0:\n",
        "        return b\n",
        "    if np.sign(y1)*np.sign(y2) > 0:\n",
        "        raise Exception('function has same signs at the endpoints')\n",
        "    cnt = 0\n",
        "    while abs(a-b) > a*tolerance and cnt < 100:\n",
        "        c = (a+b)/2\n",
        "        y3 = f(c)\n",
        "        if y3 == 0:\n",
        "            if return_cnt:\n",
        "                return c,cnt\n",
        "            else:\n",
        "                return c\n",
        "        if np.sign(y1)*np.sign(y3) < 0:\n",
        "            b = c\n",
        "            y2 = y3\n",
        "        elif np.sign(y2)*np.sign(y3) < 0:\n",
        "            a = c\n",
        "            y1 = y3\n",
        "        cnt = cnt+1\n",
        "    if return_cnt:\n",
        "        return c,cnt\n",
        "    else:\n",
        "        return c"
      ]
    },
    {
      "cell_type": "code",
      "source": [
        "def f(x): return np.cos(x) - x\n",
        "bisection(f,0,1)"
      ],
      "metadata": {
        "id": "uRCbcVrzlqOS"
      },
      "execution_count": null,
      "outputs": []
    },
    {
      "cell_type": "code",
      "source": [
        "bisection(f,0,1, return_cnt = True)"
      ],
      "metadata": {
        "id": "RyJR8xyCluc1"
      },
      "execution_count": null,
      "outputs": []
    },
    {
      "cell_type": "code",
      "source": [
        "bisection(f,0,1, return_cnt = True, tolerance = 1/8)"
      ],
      "metadata": {
        "id": "_omlibiplxYD"
      },
      "execution_count": null,
      "outputs": []
    },
    {
      "cell_type": "markdown",
      "source": [
        "#Fixed point iteration\n",
        "\n",
        "Here's another way to solve  cos(x)=x"
      ],
      "metadata": {
        "id": "UfjPpcb-l2ly"
      }
    },
    {
      "cell_type": "code",
      "source": [
        "x1 = 0\n",
        "x2 = 1\n",
        "cnt = 0\n",
        "while np.abs(x1-x2) > 10**(-15) and cnt < 100:\n",
        "    x1 = x2\n",
        "    x2 = np.cos(x2)\n",
        "    cnt = cnt + 1\n",
        "x2,cnt"
      ],
      "metadata": {
        "id": "_yqbEj3_l8g1"
      },
      "execution_count": null,
      "outputs": []
    },
    {
      "cell_type": "code",
      "source": [
        "np.sin(0.739)"
      ],
      "metadata": {
        "id": "UFSHtXwwl_Pr"
      },
      "execution_count": null,
      "outputs": []
    },
    {
      "cell_type": "markdown",
      "source": [
        "#An exploration with fixed point iteration\n",
        "Suppose we'd like to find the roots of  f(x)= (1/2) * x^5 − 2x − 1. We might start with a graph."
      ],
      "metadata": {
        "id": "fDujJxgtmDQ-"
      }
    },
    {
      "cell_type": "code",
      "source": [
        "%matplotlib inline\n",
        "from matplotlib import pyplot as plt\n",
        "def f(x): return x**5/2 - 2*x - 1\n",
        "x = np.linspace(-1.5,1.6,100)\n",
        "y = f(x)\n",
        "plt.plot(x,y)"
      ],
      "metadata": {
        "id": "IkaOud4XmTC3"
      },
      "execution_count": null,
      "outputs": []
    },
    {
      "cell_type": "markdown",
      "source": [
        "Looks like we've got three roots. If we want to solve via fixed point iteration, we should rewrite the equation  \n",
        "\n",
        "f(x)=0\n",
        "\n",
        "in the form  F(x)=x and then iterate  F. One obvious way to do this is\n",
        "\n",
        "x = ( 1/2) ((1/2)) x^5 − 1).\n",
        " \n",
        "Thus, we might iterate  F(x)=(x^5/2 − 1) / 2. Before doing so, let's plot  F along with the line  y=x."
      ],
      "metadata": {
        "id": "-eA9LCaTmY-R"
      }
    },
    {
      "cell_type": "code",
      "source": [
        "def F(x): return (x**5/2-1)/2\n",
        "x = np.linspace(-1.5,1.7,100)\n",
        "y = F(x)\n",
        "plt.plot(x,y)\n",
        "plt.plot(x,x)"
      ],
      "metadata": {
        "id": "ToLq3IULmzzH"
      },
      "execution_count": null,
      "outputs": []
    },
    {
      "cell_type": "code",
      "source": [
        "x = -0.5\n",
        "cnt = 0\n",
        "while np.abs(f(x))>10**-15 and cnt <100:\n",
        "    x = F(x)\n",
        "    cnt = cnt+1\n",
        "x,cnt"
      ],
      "metadata": {
        "id": "KRu547B-m3vw"
      },
      "execution_count": null,
      "outputs": []
    },
    {
      "cell_type": "markdown",
      "source": [
        "At the other roots, though, it appears that  F′is larger than one. How might we find those?\n",
        "\n",
        "Well, there are other  x s to solve for, if that makes any sense. For example, we might rewrite the equation as\n",
        "\n",
        "x = sqrt 5(4 x+2).\n",
        " \n",
        "Note that the weird way of writing this function is necessary since  (−1)^(1/5) is a complex number."
      ],
      "metadata": {
        "id": "Z7jJ9Op9nAHu"
      }
    },
    {
      "cell_type": "code",
      "source": [
        "def G(x): return np.sign(4*x+2)*np.abs(4*x+2)**(1/5)\n",
        "x = np.linspace(-1.8,1.8,100)\n",
        "y = G(x)\n",
        "plt.plot(x,y)\n",
        "plt.plot(x,x)"
      ],
      "metadata": {
        "id": "a85QYPFYm-Yt"
      },
      "execution_count": null,
      "outputs": []
    },
    {
      "cell_type": "code",
      "source": [
        "x = 1.5\n",
        "cnt = 0\n",
        "while np.abs(f(x))>10**-15 and cnt <100:\n",
        "    x = G(x)\n",
        "    cnt = cnt+1\n",
        "x,cnt"
      ],
      "metadata": {
        "id": "HbodsqJwna6B"
      },
      "execution_count": null,
      "outputs": []
    },
    {
      "cell_type": "markdown",
      "source": [
        "# Newton's method\n",
        "Newton's method suggests that we iterate\n",
        " \n",
        "N(x) = x − f(x)/f′(x).\n",
        " \n",
        "For  f(x)=cos(x), we have \n",
        "\n",
        " f′(x)=−sin(x) \n",
        "\n",
        "so this boils down to \n",
        "\n",
        "N(x) = x + cos(x)/sin(x).\n",
        " \n",
        "Let's try it!"
      ],
      "metadata": {
        "id": "GA18ih9Knfy0"
      }
    },
    {
      "cell_type": "code",
      "source": [
        "x = 1\n",
        "cnt=0\n",
        "def n(x): return x + np.cos(x)/np.sin(x)\n",
        "while np.abs(np.cos(x)) > 10**(-15) and cnt < 10:\n",
        "    x = n(x)\n",
        "    cnt = cnt+1\n",
        "x,cnt"
      ],
      "metadata": {
        "id": "C_JR3XGZnxkj"
      },
      "execution_count": null,
      "outputs": []
    },
    {
      "cell_type": "markdown",
      "source": [
        "#SciPy functions for finding roots\n",
        "\n",
        "SciPy provides some great functions for root finding in its optimize module. Here are a few:"
      ],
      "metadata": {
        "id": "g1Uned6Qn6b8"
      }
    },
    {
      "cell_type": "code",
      "source": [
        "from scipy.optimize import bisect, brentq, newton, root\n"
      ],
      "metadata": {
        "id": "5mFY02Kbn_0d"
      },
      "execution_count": null,
      "outputs": []
    },
    {
      "cell_type": "markdown",
      "source": [
        "bracketed algorithm (meaning that it searches in an interval) "
      ],
      "metadata": {
        "id": "0uttzlAZoKJn"
      }
    },
    {
      "cell_type": "code",
      "source": [
        "brentq(np.cos,0,2)"
      ],
      "metadata": {
        "id": "gG5hQIvuoE6B"
      },
      "execution_count": null,
      "outputs": []
    },
    {
      "cell_type": "code",
      "source": [
        "def f(x): return (x**2-2)**2\n",
        "def fp(x): return 4*x*(x**2-2)\n",
        "newton(f,0.1, fp)"
      ],
      "metadata": {
        "id": "nIdm5kCCoZza"
      },
      "execution_count": null,
      "outputs": []
    },
    {
      "cell_type": "code",
      "source": [
        "newton(lambda x: x**2-2,1)"
      ],
      "metadata": {
        "id": "GHPB_eSwobtv"
      },
      "execution_count": null,
      "outputs": []
    },
    {
      "cell_type": "code",
      "source": [
        "root_result = root(lambda x: (x**2-2)**2,1)\n",
        "root_result"
      ],
      "metadata": {
        "id": "T2m_ZN8oohHx"
      },
      "execution_count": null,
      "outputs": []
    },
    {
      "cell_type": "code",
      "source": [
        "root_result['x']"
      ],
      "metadata": {
        "id": "GHCpqREBoksa"
      },
      "execution_count": null,
      "outputs": []
    }
  ]
}