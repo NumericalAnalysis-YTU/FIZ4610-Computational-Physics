{
  "nbformat": 4,
  "nbformat_minor": 0,
  "metadata": {
    "colab": {
      "provenance": [],
      "authorship_tag": "ABX9TyNdswNMw7JUwpdAGQ0X9FkK",
      "include_colab_link": true
    },
    "kernelspec": {
      "name": "python3",
      "display_name": "Python 3"
    },
    "language_info": {
      "name": "python"
    }
  },
  "cells": [
    {
      "cell_type": "markdown",
      "metadata": {
        "id": "view-in-github",
        "colab_type": "text"
      },
      "source": [
        "<a href=\"https://colab.research.google.com/github/NumericalAnalysis-YTU/FIZ4610-Computational-Physics/blob/main/lab_ode.ipynb\" target=\"_parent\"><img src=\"https://colab.research.google.com/assets/colab-badge.svg\" alt=\"Open In Colab\"/></a>"
      ]
    },
    {
      "cell_type": "markdown",
      "source": [
        "\n",
        "# Solution of D.E.s\n",
        "\n",
        "The numerical solution of diﬀerential equations is a very large subject spanning many types of problems and solutions. In this lecture we will look at just two simpliﬁed topics: the solution of ordinary diﬀerential equations using Euler’s method (ﬁrst-order Rung-Kutta), and the solution of partial diﬀerential equations using the ﬁnite-diﬀerence method and Jacobi Relaxation. You can read about many other types of problems and\n",
        "solutions in your course text book (”Ordinary Diﬀerential Equations” and ”Partial Diﬀerential Equations”).\n",
        "\n",
        "\n",
        "#The Euler Method (ﬁrst-order Rung-Kutta)\n",
        "\n",
        "Many physical systems can be expressed in terms of ﬁrst-order or second-order diﬀerential equations. The time-evolution of these systems can be approximated with a Euler method. We will apply the Euler method\n",
        "to simulate a body in free-fall, the charging and discharge of a simple R-C circuit, and the motion of a mass-on-a-spring system.\n",
        "To introduce the ideas of Euler methods we will ﬁrst look at a simple ’freshman physics’ problem of a body in free-fall; here air resistance is ignored and the acceleration due to gravity is a constant $g =  9.81\n",
        "m/s^2$. First the problem is solved analytically and then we will develop Euler methods to solve the problem numerically. We will then study Euler methods further.\n",
        "\n",
        "#Free-fall - analytical solution\n",
        "\n",
        "We will determine the displacement of a body in free-fall. The boundary conditions for the solution is that at $t=0$ the initial displacement, y, and the initial velocity, v, are both zero. The system is governed by the\n",
        "second-order diﬀerential equation\n",
        " $y” = -g$ ; \n",
        " \n",
        " integrating with the above boundary conditions gives\n",
        "\n",
        "$y’ = - g t$ and so $y = - 0.5 g t$\n",
        "\n",
        "\n",
        "\n",
        "For $t = 10 seconds$ \n",
        "\n",
        "we therefore have a displacement of \n",
        "\n",
        "$-0.5   x   9.81   x   10^2  = -490.500 m$\n",
        "\n",
        "\n",
        "\n",
        "# Free-fall - numerical solution (by the Euler method)\n",
        "\n",
        "We have the second-order diﬀerential equation $ y” = -g $ this can be written as two ﬁrst-order equations:\n",
        "\n",
        "$\\frac{dv}{dt} = -g$  and $ \\frac{dy}{dt} = v $, \n",
        "\n",
        "rearranging these equations we have: \n",
        "\n",
        "$dv = -g dt$ and \n",
        "\n",
        "$dy = v dt$, \n",
        "\n",
        "which can be written as:\n",
        "\n",
        "$v(t+dt) = v(t) - g dt $\n",
        "$y(t+dt) = y(t) + v(t) dt $\n",
        "\n",
        "\n",
        "These expressions simple state that the velocity a time dt later is the current velocity advanced by acceleration multiplied by dt, and the displacement a time dt later is the current displacement advanced by velocity multiplied by dt. The expressions are exact if dt takes the calculus form of \"**dt tends to zero**\". However, for a numerical solution dt is small but not zero; with a ﬁnite value for dt the above equations become Euler’s method, the expressions now, in general, contain truncation errors (see later).\n",
        "\n",
        "\n",
        "Writing the expressions in the form of an algorithm:\n",
        "\n",
        "$v1 = v0 - g dt $\n",
        "\n",
        "Euler step evolving velocity and\n",
        "\n",
        "$y1 = y0 + v0 dt $\n",
        "\n",
        "displacement in a finite time $dt$ Three versions of the Euler step exist:\n",
        "\n",
        "\n",
        "Simple Euler|       Euler-Cromer   |           Improved Euler|\n",
        "--- | ---|---|\n",
        "v1 = v0 - g dt  |    v1 = v0 - g dt        |   v1 = v0 - g dt|\n",
        "y1 = y0 + v0 dt |    y1 = y0 + v1 dt     |    y1 = y1 + $\\frac{(v0+v1)}{2}$ dt|\n",
        "\n",
        "\n",
        "\n",
        "Each version uses a diﬀerent velocity to evolve y:\n",
        "\n",
        "\n",
        "Methods       | Used           \n",
        "--- | ---|\n",
        " Simple Euler | v0 - generally poor accuracy |\n",
        " Euler-Cromer   |v1 - works well for oscillating systems|  \n",
        " Improved Euler|(v0+v1)/2 - exact for the free-fall system.\n",
        " "
      ],
      "metadata": {
        "id": "Ln-W87xl7XLJ"
      }
    },
    {
      "cell_type": "markdown",
      "source": [
        "#Euler Formula"
      ],
      "metadata": {
        "id": "x46ZRfyqn9pG"
      }
    },
    {
      "cell_type": "markdown",
      "source": [
        "\n",
        "\n",
        "The differential equation $\\frac{df(t)}{dt}=e^{−t}$ with initial condition $f_0 = −1$ has the exact solution $f(t)=−e^{−t}$. \n",
        "\n",
        "Approximate the solution to this initial value problem between 0 and 1 in increments of 0.1 using the Explicity **Euler Formula**. \n",
        "\n",
        "Plot the difference between the approximated solution and the exact solution."
      ],
      "metadata": {
        "id": "OS1sMCzIeu_M"
      }
    },
    {
      "cell_type": "code",
      "execution_count": null,
      "metadata": {
        "id": "xwRy3K2KehZz"
      },
      "outputs": [],
      "source": [
        "import numpy as np\n",
        "import matplotlib.pyplot as plt\n",
        "\n",
        "plt.style.use('seaborn-poster')\n",
        "%matplotlib inline\n",
        "\n",
        "# Define parameters\n",
        "\n",
        "f = lambda t, s: np.exp(-t) # ODE\n",
        "\n",
        "h = 0.1 # Step size\n",
        "t = np.arange(0, 1 + h, h) # Numerical grid\n",
        "s0 = -1 # Initial Condition\n",
        "\n",
        "# Explicit Euler Method\n",
        "s = np.zeros(len(t))\n",
        "s[0] = s0\n",
        "\n",
        "for i in range(0, len(t) - 1):\n",
        "    s[i + 1] = s[i] + h*f(t[i], s[i])\n",
        "\n",
        "plt.figure(figsize = (12, 8))\n",
        "plt.plot(t, s, 'bo--', label='Approximate')\n",
        "plt.plot(t, -np.exp(-t), 'g', label='Exact')\n",
        "plt.title('Approximate and Exact Solution \\\n",
        "for Simple ODE')\n",
        "plt.xlabel('t')\n",
        "plt.ylabel('f(t)')\n",
        "plt.grid()\n",
        "plt.legend(loc='lower right')\n",
        "plt.show()"
      ]
    },
    {
      "cell_type": "markdown",
      "source": [
        "# 2nd Order Runge Kutta\n",
        "The general 2nd Order Runge Kutta method for to the first order differential equation\n",
        "\\begin{equation} y^{'} = f(t,y) \\end{equation}\n",
        "numerical approximates $y$ the at time point $t_i$ as $w_i$\n",
        "with the  formula:\n",
        "\\begin{equation} w_{i+1}=w_i+\\frac{h}{2}\\big[k_1+k_2],\\end{equation}\n",
        "for $i=0,...,N-1$, where \n",
        "\\begin{equation}k_1=f(t_i,w_i),\\end{equation}\n",
        "and\n",
        "\\begin{equation}k_2=f(t_i+h,w_i+hk_1),\\end{equation}\n",
        "and $h$ is the stepsize.\n",
        "\n",
        "To illustrate the method we will apply it to three intial value problems:\n",
        "## 1. Linear \n",
        "Consider the linear population Differential Equation\n",
        "\\begin{equation} y^{'}=0.1y, \\ \\ (2000 \\leq t \\leq 2020), \\end{equation}\n",
        "with the initial condition,\n",
        "\\begin{equation}y(2000)=6.\\end{equation}\n",
        "\n",
        "## 2. Non-Linear Population Equation \n",
        "Consider the non-linear population Differential Equation\n",
        "\\begin{equation} y^{'}=0.2y-0.01y^2, \\ \\ (2000 \\leq t \\leq 2020), \\end{equation}\n",
        "with the initial condition,\n",
        "\\begin{equation}y(2000)=6.\\end{equation}\n",
        "\n",
        "## 3. Non-Linear Population Equation with an oscillation \n",
        "Consider the non-linear population Differential Equation with an oscillation \n",
        "\\begin{equation} y^{'}=0.2y-0.01y^2+\\sin(2\\pi t), \\ \\ (2000 \\leq t \\leq 2020), \\end{equation}\n",
        "with the initial condition,\n",
        "\\begin{equation}y(2000)=6.\\end{equation}"
      ],
      "metadata": {
        "id": "EVNbLkpyoCO0"
      }
    },
    {
      "cell_type": "code",
      "source": [
        "import numpy as np\n",
        "import matplotlib.pyplot as plt\n",
        "\n",
        "plt.style.use('seaborn-poster')\n",
        "%matplotlib inline\n",
        "\n",
        "# Define parameters\n",
        "\n",
        "f = lambda t, s: np.cos(t) # ODE\n",
        "\n",
        "h = 0.1 # Step size\n",
        "t = np.arange(0, np.pi + h, h) # Numerical grid\n",
        "\n",
        "s0 = -1 # Initial Condition\n",
        "\n",
        "# Explicit Euler Method\n",
        "s = np.zeros(len(t))\n",
        "s[0] = s0\n",
        "\n",
        "for i in range(0, len(t) - 1):\n",
        "    s[i + 1] = s[i] + h*f(t[i], s[i])\n",
        "\n",
        "plt.figure(figsize = (12, 8))\n",
        "plt.plot(t, s, 'bo--', label='Approximate')\n",
        "plt.plot(t, -np.exp(-t), 'g', label='Exact')\n",
        "plt.title('Approximate and Exact Solution \\\n",
        "for Simple ODE')\n",
        "plt.xlabel('t')\n",
        "plt.ylabel('f(t)')\n",
        "plt.grid()\n",
        "plt.legend(loc='lower right')\n",
        "plt.show()"
      ],
      "metadata": {
        "id": "-UuT3nSLgzeM"
      },
      "execution_count": null,
      "outputs": []
    },
    {
      "cell_type": "code",
      "source": [
        "pi = 3.141592653589793\n",
        "e = 2.718281828459045\n"
      ],
      "metadata": {
        "id": "zDHPGNTrkdu0"
      },
      "execution_count": 5,
      "outputs": []
    },
    {
      "cell_type": "markdown",
      "source": [
        "# 1. Linear Population Equation\n",
        "## Exact Solution \n",
        "The linear population equation\n",
        "\\begin{equation} y^{'}=0.1y, \\ \\ (2000 \\leq t \\leq 2020), \\end{equation}\n",
        "with the initial condition,\n",
        "\\begin{equation} y(2000)=6.\\end{equation}\n",
        "has a known exact (analytic) solution\n",
        "\\begin{equation} y=6e^{0.1(t-2000)}. \\end{equation}\n",
        "\n",
        "## Specific 2nd Order Runge Kutta \n",
        "To write the specific 2nd Order Runge Kutta method for the linear population equation we need \n",
        "\\begin{equation}f(t,y)=0.1y.\\end{equation}"
      ],
      "metadata": {
        "id": "UqJhpo38ohp7"
      }
    },
    {
      "cell_type": "code",
      "source": [
        "## Library\n",
        "import numpy as np\n",
        "import math \n",
        "import pandas as pd\n",
        "%matplotlib inline\n",
        "import matplotlib.pyplot as plt # side-stepping mpl backend\n",
        "import matplotlib.gridspec as gridspec # subplots\n",
        "import warnings\n",
        "\n",
        "warnings.filterwarnings(\"ignore\")\n",
        "\n",
        "\n",
        "def linfun(t,w):\n",
        "    ftw=0.1*w\n",
        "    return ftw\n",
        "\n",
        "w=np.zeros(N+1)\n",
        "w[0]=6.0\n",
        "## 2nd Order Runge Kutta\n",
        "for k in range (0,N):\n",
        "    k1=linfun(t[k],w[k])\n",
        "    k2=linfun(t[k]+h,w[k]+h*k1)\n",
        "    w[k+1]=w[k]+h/2*(k1+k2)\n",
        "\n",
        "y=6*np.exp(0.1*(t-2000))\n",
        "fig = plt.figure(figsize=(12,8))\n",
        "plt.plot(t,w,'.:',color='purple',label='Runge Kutta')\n",
        "plt.plot(t,y,'s:',color='black',label='Exact')\n",
        "plt.legend(loc='best')\n",
        "plt.show()\n"
      ],
      "metadata": {
        "colab": {
          "base_uri": "https://localhost:8080/",
          "height": 495
        },
        "id": "DHHP45bxoUvN",
        "outputId": "d9c3eee2-f1e4-4af8-f78a-209280370f62"
      },
      "execution_count": 20,
      "outputs": [
        {
          "output_type": "display_data",
          "data": {
            "text/plain": [
              "<Figure size 864x576 with 1 Axes>"
            ],
            "image/png": "[encoded data removed]"
          },
          "metadata": {
            "needs_background": "light"
          }
        }
      ]
    },
    {
      "cell_type": "code",
      "source": [
        "\n",
        "d = {'time t_i': t[0:10],    'Runge Kutta':w[0:10],'Exact (y)':y[0:10],'Exact Error':np.abs(np.round(y[0:10]-w[0:10],10))}\n",
        "df = pd.DataFrame(data=d)\n",
        "df"
      ],
      "metadata": {
        "colab": {
          "base_uri": "https://localhost:8080/",
          "height": 363
        },
        "id": "pWUwkhd9pACa",
        "outputId": "02794c97-6639-4eec-9ab8-cee1b7833a34"
      },
      "execution_count": 21,
      "outputs": [
        {
          "output_type": "execute_result",
          "data": {
            "text/plain": [
              "   time t_i  Runge Kutta  Exact (y)  Exact Error\n",
              "0    2000.0     6.000000   6.000000     0.000000\n",
              "1    2000.1     6.060300   6.060301     0.000001\n",
              "2    2000.2     6.121206   6.121208     0.000002\n",
              "3    2000.3     6.182724   6.182727     0.000003\n",
              "4    2000.4     6.244861   6.244865     0.000004\n",
              "5    2000.5     6.307621   6.307627     0.000005\n",
              "6    2000.6     6.371013   6.371019     0.000006\n",
              "7    2000.7     6.435042   6.435049     0.000007\n",
              "8    2000.8     6.499714   6.499722     0.000009\n",
              "9    2000.9     6.565036   6.565046     0.000010"
            ],
            "text/html": [
              "\n",
              "  <div id=\"df-fba5f40f-ce05-4b79-aae9-ddf4b168a900\">\n",
              "    <div class=\"colab-df-container\">\n",
              "      <div>\n",
              "<style scoped>\n",
              "    .dataframe tbody tr th:only-of-type {\n",
              "        vertical-align: middle;\n",
              "    }\n",
              "\n",
              "    .dataframe tbody tr th {\n",
              "        vertical-align: top;\n",
              "    }\n",
              "\n",
              "    .dataframe thead th {\n",
              "        text-align: right;\n",
              "    }\n",
              "</style>\n",
              "<table border=\"1\" class=\"dataframe\">\n",
              "  <thead>\n",
              "    <tr style=\"text-align: right;\">\n",
              "      <th></th>\n",
              "      <th>time t_i</th>\n",
              "      <th>Runge Kutta</th>\n",
              "      <th>Exact (y)</th>\n",
              "      <th>Exact Error</th>\n",
              "    </tr>\n",
              "  </thead>\n",
              "  <tbody>\n",
              "    <tr>\n",
              "      <th>0</th>\n",
              "      <td>2000.0</td>\n",
              "      <td>6.000000</td>\n",
              "      <td>6.000000</td>\n",
              "      <td>0.000000</td>\n",
              "    </tr>\n",
              "    <tr>\n",
              "      <th>1</th>\n",
              "      <td>2000.1</td>\n",
              "      <td>6.060300</td>\n",
              "      <td>6.060301</td>\n",
              "      <td>0.000001</td>\n",
              "    </tr>\n",
              "    <tr>\n",
              "      <th>2</th>\n",
              "      <td>2000.2</td>\n",
              "      <td>6.121206</td>\n",
              "      <td>6.121208</td>\n",
              "      <td>0.000002</td>\n",
              "    </tr>\n",
              "    <tr>\n",
              "      <th>3</th>\n",
              "      <td>2000.3</td>\n",
              "      <td>6.182724</td>\n",
              "      <td>6.182727</td>\n",
              "      <td>0.000003</td>\n",
              "    </tr>\n",
              "    <tr>\n",
              "      <th>4</th>\n",
              "      <td>2000.4</td>\n",
              "      <td>6.244861</td>\n",
              "      <td>6.244865</td>\n",
              "      <td>0.000004</td>\n",
              "    </tr>\n",
              "    <tr>\n",
              "      <th>5</th>\n",
              "      <td>2000.5</td>\n",
              "      <td>6.307621</td>\n",
              "      <td>6.307627</td>\n",
              "      <td>0.000005</td>\n",
              "    </tr>\n",
              "    <tr>\n",
              "      <th>6</th>\n",
              "      <td>2000.6</td>\n",
              "      <td>6.371013</td>\n",
              "      <td>6.371019</td>\n",
              "      <td>0.000006</td>\n",
              "    </tr>\n",
              "    <tr>\n",
              "      <th>7</th>\n",
              "      <td>2000.7</td>\n",
              "      <td>6.435042</td>\n",
              "      <td>6.435049</td>\n",
              "      <td>0.000007</td>\n",
              "    </tr>\n",
              "    <tr>\n",
              "      <th>8</th>\n",
              "      <td>2000.8</td>\n",
              "      <td>6.499714</td>\n",
              "      <td>6.499722</td>\n",
              "      <td>0.000009</td>\n",
              "    </tr>\n",
              "    <tr>\n",
              "      <th>9</th>\n",
              "      <td>2000.9</td>\n",
              "      <td>6.565036</td>\n",
              "      <td>6.565046</td>\n",
              "      <td>0.000010</td>\n",
              "    </tr>\n",
              "  </tbody>\n",
              "</table>\n",
              "</div>\n",
              "      <button class=\"colab-df-convert\" onclick=\"convertToInteractive('df-fba5f40f-ce05-4b79-aae9-ddf4b168a900')\"\n",
              "              title=\"Convert this dataframe to an interactive table.\"\n",
              "              style=\"display:none;\">\n",
              "        \n",
              "  <svg xmlns=\"http://www.w3.org/2000/svg\" height=\"24px\"viewBox=\"0 0 24 24\"\n",
              "       width=\"24px\">\n",
              "    <path d=\"M0 0h24v24H0V0z\" fill=\"none\"/>\n",
              "    <path d=\"M18.56 5.44l.94 2.06.94-2.06 2.06-.94-2.06-.94-.94-2.06-.94 2.06-2.06.94zm-11 1L8.5 8.5l.94-2.06 2.06-.94-2.06-.94L8.5 2.5l-.94 2.06-2.06.94zm10 10l.94 2.06.94-2.06 2.06-.94-2.06-.94-.94-2.06-.94 2.06-2.06.94z\"/><path d=\"M17.41 7.96l-1.37-1.37c-.4-.4-.92-.59-1.43-.59-.52 0-1.04.2-1.43.59L10.3 9.45l-7.72 7.72c-.78.78-.78 2.05 0 2.83L4 21.41c.39.39.9.59 1.41.59.51 0 1.02-.2 1.41-.59l7.78-7.78 2.81-2.81c.8-.78.8-2.07 0-2.86zM5.41 20L4 18.59l7.72-7.72 1.47 1.35L5.41 20z\"/>\n",
              "  </svg>\n",
              "      </button>\n",
              "      \n",
              "  <style>\n",
              "    .colab-df-container {\n",
              "      display:flex;\n",
              "      flex-wrap:wrap;\n",
              "      gap: 12px;\n",
              "    }\n",
              "\n",
              "    .colab-df-convert {\n",
              "      background-color: #E8F0FE;\n",
              "      border: none;\n",
              "      border-radius: 50%;\n",
              "      cursor: pointer;\n",
              "      display: none;\n",
              "      fill: #1967D2;\n",
              "      height: 32px;\n",
              "      padding: 0 0 0 0;\n",
              "      width: 32px;\n",
              "    }\n",
              "\n",
              "    .colab-df-convert:hover {\n",
              "      background-color: #E2EBFA;\n",
              "      box-shadow: 0px 1px 2px rgba(60, 64, 67, 0.3), 0px 1px 3px 1px rgba(60, 64, 67, 0.15);\n",
              "      fill: #174EA6;\n",
              "    }\n",
              "\n",
              "    [theme=dark] .colab-df-convert {\n",
              "      background-color: #3B4455;\n",
              "      fill: #D2E3FC;\n",
              "    }\n",
              "\n",
              "    [theme=dark] .colab-df-convert:hover {\n",
              "      background-color: #434B5C;\n",
              "      box-shadow: 0px 1px 3px 1px rgba(0, 0, 0, 0.15);\n",
              "      filter: drop-shadow(0px 1px 2px rgba(0, 0, 0, 0.3));\n",
              "      fill: #FFFFFF;\n",
              "    }\n",
              "  </style>\n",
              "\n",
              "      <script>\n",
              "        const buttonEl =\n",
              "          document.querySelector('#df-fba5f40f-ce05-4b79-aae9-ddf4b168a900 button.colab-df-convert');\n",
              "        buttonEl.style.display =\n",
              "          google.colab.kernel.accessAllowed ? 'block' : 'none';\n",
              "\n",
              "        async function convertToInteractive(key) {\n",
              "          const element = document.querySelector('#df-fba5f40f-ce05-4b79-aae9-ddf4b168a900');\n",
              "          const dataTable =\n",
              "            await google.colab.kernel.invokeFunction('convertToInteractive',\n",
              "                                                     [key], {});\n",
              "          if (!dataTable) return;\n",
              "\n",
              "          const docLinkHtml = 'Like what you see? Visit the ' +\n",
              "            '<a target=\"_blank\" href=https://colab.research.google.com/notebooks/data_table.ipynb>data table notebook</a>'\n",
              "            + ' to learn more about interactive tables.';\n",
              "          element.innerHTML = '';\n",
              "          dataTable['output_type'] = 'display_data';\n",
              "          await google.colab.output.renderOutput(dataTable, element);\n",
              "          const docLink = document.createElement('div');\n",
              "          docLink.innerHTML = docLinkHtml;\n",
              "          element.appendChild(docLink);\n",
              "        }\n",
              "      </script>\n",
              "    </div>\n",
              "  </div>\n",
              "  "
            ]
          },
          "metadata": {},
          "execution_count": 21
        }
      ]
    },
    {
      "cell_type": "markdown",
      "source": [
        "## 2. Non-Linear Population Equation \n",
        "\\begin{equation} y^{'}=0.2y-0.01y^2, \\ \\ (2000 \\leq t \\leq 2020), \\end{equation}\n",
        "with the initial condition,\n",
        "\\begin{equation}y(2000)=6.\\end{equation}\n",
        "## Specific 2nd Order Runge Kutta for the Non-Linear Population Equation\n",
        "To write the specific 2nd Order Runge Kutta method we need\n",
        "\\begin{equation}f(t,y)=0.2y-0.01y^2,\\end{equation}\n",
        "this gives\n",
        "\\begin{equation}k_1=f(t_i,w_i)=0.2w_i-0.01w_i^2,\\end{equation}\n",
        "\\begin{equation}k_2=f(t_i+h,w_i+hk_1)=0.2(w_i+hk_1)-0.01(w_i+hk_1)^2,\\end{equation}\n",
        "and the difference equation\n",
        "\\begin{equation}w_{i+1}=w_{i}+\\frac{h}{2}(k_1+k_2),\\end{equation}\n",
        "for $i=0,...,199$, where $w_i$ is the numerical approximation of $y$ at time $t_i$, with step size $h$ and the initial condition\n",
        "\\begin{equation}w_0=6.\\end{equation}"
      ],
      "metadata": {
        "id": "yzrlhFZbl0qT"
      }
    },
    {
      "cell_type": "code",
      "source": [
        "def nonlinfun(t,w):\n",
        "    ftw=0.2*w-0.01*w*w\n",
        "    return ftw\n",
        "\n",
        "\n",
        "w=np.zeros(N+1)\n",
        "w[0]=6.0\n",
        "## 2nd Order Runge Kutta\n",
        "for k in range (0,N):\n",
        "    k1=nonlinfun(t[k],w[k])\n",
        "    k2=nonlinfun(t[k]+h,w[k]+h*k1)\n",
        "    w[k+1]=w[k]+h/2*(k1+k2)\n",
        "\n",
        "fig = plt.figure(figsize=(12,8))\n",
        "plt.plot(t,w,'o:',color='purple',label='Runge Kutta')\n",
        "plt.legend(loc='best')\n",
        "plt.show()"
      ],
      "metadata": {
        "colab": {
          "base_uri": "https://localhost:8080/",
          "height": 495
        },
        "id": "BgNw4Z85pLqr",
        "outputId": "dd3aa35d-07af-42fe-95ee-69e84dfad72e"
      },
      "execution_count": 24,
      "outputs": [
        {
          "output_type": "display_data",
          "data": {
            "text/plain": [
              "<Figure size 864x576 with 1 Axes>"
            ],
            "image/png": "[encoded data removed]"
          },
          "metadata": {
            "needs_background": "light"
          }
        }
      ]
    },
    {
      "cell_type": "code",
      "source": [
        "d = {'time t_i': t[0:10], \n",
        "     'Runge Kutta':w[0:10]}\n",
        "df = pd.DataFrame(data=d)\n",
        "df"
      ],
      "metadata": {
        "id": "YqIbCofnpWNL"
      },
      "execution_count": null,
      "outputs": []
    },
    {
      "cell_type": "markdown",
      "source": [
        "## 3. Non-Linear Population Equation with an oscilation \n",
        "\\begin{equation} y^{'}=0.2y-0.01y^2+\\sin(2\\pi t), \\ \\ (2000 \\leq t \\leq 2020), \\end{equation}\n",
        "with the initial condition,\n",
        "\\begin{equation}y(2000)=6.\\end{equation}\n",
        "\n",
        "## Specific 2nd Order Runge Kutta for the Non-Linear Population Equation with an oscilation\n",
        "To write the specific 2nd Order Runge Kutta difference equation for the intial value problem we need \n",
        "\\begin{equation}f(t,y)=0.2y-0.01y^2+\\sin(2\\pi t),\\end{equation}\n",
        "which gives\n",
        "\\begin{equation}k_1=f(t_i,w_i)=0.2w_i-0.01w_i^2+\\sin(2\\pi t_i),\\end{equation}\n",
        "\\begin{equation}k_2=f(t_i+h,w_i+hk_1)=0.2(w_i+hk_1)-0.01(w_i+hk_1)^2+\\sin(2\\pi (t_i+h)),\\end{equation}\n",
        "and the difference equation\n",
        "\\begin{equation}w_{i+1}=w_{i}+\\frac{h}{2}(k_1+k_2),\\end{equation}\n",
        "for $i=0,...,199$, where $w_i$ is the numerical approximation of $y$ at time $t_i$, with step size $h$ and the initial condition\n",
        "\\begin{equation}w_0=6.\\end{equation}"
      ],
      "metadata": {
        "id": "acH9sVVcpaj8"
      }
    },
    {
      "cell_type": "code",
      "source": [
        "'''\n",
        "2nd order Runge Kutta numerical approximation\n",
        "'''\n",
        "\n",
        "def nonlin_oscfun(t,w):\n",
        "    ftw=0.2*w-0.01*w*w+np.sin(2*np.math.pi*t)\n",
        "    return ftw\n",
        "\n",
        "\n",
        "w=np.zeros(N+1)\n",
        "w[0]=6.0\n",
        "## 2nd Order Runge Kutta\n",
        "for k in range (0,N):\n",
        "    k1=nonlin_oscfun(t[k],w[k])\n",
        "    k2=nonlin_oscfun(t[k]+h,w[k]+h*k1)\n",
        "    w[k+1]=w[k]+h/2*(k1+k2)\n",
        "\n",
        "fig = plt.figure(figsize=(8,4))\n",
        "plt.plot(t,w,'o:',color='purple',label='Taylor')\n",
        "plt.legend(loc='best')\n",
        "plt.show()\n"
      ],
      "metadata": {
        "colab": {
          "base_uri": "https://localhost:8080/",
          "height": 278
        },
        "id": "IxFUqLNYpZMs",
        "outputId": "a7f5e12f-5f4b-4ed3-adeb-465f7ad9c566"
      },
      "execution_count": 26,
      "outputs": [
        {
          "output_type": "display_data",
          "data": {
            "text/plain": [
              "<Figure size 576x288 with 1 Axes>"
            ],
            "image/png": "[encoded data removed]"
          },
          "metadata": {
            "needs_background": "light"
          }
        }
      ]
    },
    {
      "cell_type": "markdown",
      "source": [
        "# Example 4th order Runge Kutta\n",
        "\n",
        "The general form of the population growth differential equation\n",
        "\\begin{equation} y^{'}=t-y, \\ \\ (0 \\leq t \\leq 2) \\end{equation}\n",
        "with the initial condition\n",
        "\\begin{equation}y(0)=1,\\end{equation}\n",
        "Has the exact soulation. \\begin{equation} y= 2e^{-t}+t-1.\\end{equation}\n",
        "\n",
        "\n"
      ],
      "metadata": {
        "id": "qDgJgDP0p95j"
      }
    },
    {
      "cell_type": "markdown",
      "source": [
        "## Initial Setup\n",
        "Defining the step size $h$ from the interval range $a\\leq t \\leq b$ and number of steps $N$\n",
        "\\begin{equation}h=\\frac{b-a}{h}.\\end{equation}\n",
        "This gives the discrete time steps,\n",
        "\\begin{equation}t_{i}=t_0+ih,\\end{equation}\n",
        "where $t_0=a$."
      ],
      "metadata": {
        "id": "1ESokfKRqHsz"
      }
    },
    {
      "cell_type": "code",
      "source": [
        "\n",
        "\n",
        "import numpy as np\n",
        "import math \n",
        "\n",
        "%matplotlib inline\n",
        "import matplotlib.pyplot as plt # side-stepping mpl backend\n",
        "import matplotlib.gridspec as gridspec # subplots\n",
        "import warnings\n",
        "\n",
        "warnings.filterwarnings(\"ignore\")\n",
        "\n",
        "\n",
        "def myfun_ty(t,y):\n",
        "    return t-y\n",
        "\n",
        "# Start and end of interval\n",
        "b=2\n",
        "a=0\n",
        "# Step size\n",
        "N=4\n",
        "h=(b-a)/(N)\n",
        "t=np.arange(a,b+h,h)\n",
        "\n",
        "\n",
        "\n",
        "# Initial Condition\n",
        "IC=1\n",
        "w=np.zeros(N+1)\n",
        "y=(IC+1)*np.exp(-t)+t-1#np.zeros(N+1)\n",
        "w[0]=IC\n",
        "\n",
        "# 4th Order Runge Kutta\n",
        "\n",
        "\n",
        "for k in range (0,N):\n",
        "    k1=myfun_ty(t[k],w[k])\n",
        "    k2=myfun_ty(t[k]+h/2,w[k]+h/2*k1)\n",
        "    k3=myfun_ty(t[k]+h/2,w[k]+h/2*k2)\n",
        "    k4=myfun_ty(t[k]+h,w[k]+h*k3)\n",
        "    w[k+1]=w[k]+h/6*(k1+2*k2+2*k3+k4)\n",
        "\n",
        "\n",
        "fig = plt.figure(figsize=(10,4))\n",
        "# --- left hand plot\n",
        "ax = fig.add_subplot(1,3,1)\n",
        "plt.plot(t,w, '--',color='green')\n",
        "#ax.legend(loc='best')\n",
        "plt.title('Numerical Solution h=%s'%(h))\n",
        "\n",
        "ax = fig.add_subplot(1,3,2)\n",
        "plt.plot(t,y,color='black')\n",
        "plt.title('Exact Solution ')\n",
        "\n",
        "ax = fig.add_subplot(1,3,3)\n",
        "plt.plot(t,y-w, 'o',color='red')\n",
        "plt.title('Error')\n",
        "# --- title, explanatory text and save\n",
        "fig.suptitle(r\"$y'=t-y,   y(0)=%s$\"%(IC), fontsize=20)\n",
        "plt.tight_layout()\n",
        "plt.subplots_adjust(top=0.85)  "
      ],
      "metadata": {
        "colab": {
          "base_uri": "https://localhost:8080/",
          "height": 302
        },
        "id": "h8cJBMhKqBvE",
        "outputId": "6aad61b4-bb61-4333-8586-b78d0891526a"
      },
      "execution_count": 27,
      "outputs": [
        {
          "output_type": "display_data",
          "data": {
            "text/plain": [
              "<Figure size 720x288 with 3 Axes>"
            ],
            "image/png": "[encoded data removed]"
          },
          "metadata": {
            "needs_background": "light"
          }
        }
      ]
    },
    {
      "cell_type": "markdown",
      "source": [
        "\n",
        "What is ODE - PDE – nonlinear ODE linear ODE?\n",
        "\n",
        "# Task 1: \n",
        "\n",
        "The differential equation  $\\frac{df(t)}{dt}=e^{−t}$  with initial condition  $f_0 = −1 $  has the exact solution  $f(t)=−e^{−t}$.\n",
        "\n",
        "\n",
        "Change h step size from $1.0$ to $1e^{-3}$ to see results.\n",
        "\n",
        "\n",
        "# Task 2\n",
        "\n",
        "Change the function as  $f(x)= Cos(x)$ x changes from 0 to pi. \n",
        "\n",
        "\n",
        "# Task 3\n",
        "\n",
        "Write a computer program to solve free fall problem. "
      ],
      "metadata": {
        "id": "m2jEklZ-fUME"
      }
    }
  ]
}