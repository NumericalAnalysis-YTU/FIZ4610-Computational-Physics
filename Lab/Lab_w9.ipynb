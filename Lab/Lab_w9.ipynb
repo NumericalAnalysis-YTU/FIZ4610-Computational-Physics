{
  "nbformat": 4,
  "nbformat_minor": 0,
  "metadata": {
    "colab": {
      "provenance": [],
      "authorship_tag": "ABX9TyNRycsfCTLHKuKSSXOrRvmp",
      "include_colab_link": true
    },
    "kernelspec": {
      "name": "python3",
      "display_name": "Python 3"
    },
    "language_info": {
      "name": "python"
    }
  },
  "cells": [
    {
      "cell_type": "markdown",
      "metadata": {
        "id": "view-in-github",
        "colab_type": "text"
      },
      "source": [
        "<a href=\"https://colab.research.google.com/github/NumericalAnalysis-YTU/FIZ4610-Computational-Physics/blob/main/Lab_w9.ipynb\" target=\"_parent\"><img src=\"https://colab.research.google.com/assets/colab-badge.svg\" alt=\"Open In Colab\"/></a>"
      ]
    },
    {
      "cell_type": "code",
      "execution_count": null,
      "metadata": {
        "id": "rFrPw6q2_VJz"
      },
      "outputs": [],
      "source": []
    },
    {
      "cell_type": "markdown",
      "source": [
        "# Iteration\n",
        "\n",
        "Computers are often used to automate repetitive tasks. Repeating identical or similar tasks without making errors is something that computers do well and people do poorly.\n",
        "\n",
        "Repeated execution of a set of statements is called iteration. \n",
        "\n",
        "Because iteration is so common, Python provides several language features to make it easier. "
      ],
      "metadata": {
        "id": "X546bkBgAjjk"
      }
    },
    {
      "cell_type": "markdown",
      "source": [
        "# Lab Session - 1\n",
        "\n",
        "Interactive commands are good for experimentation, but we also want to save our work in files.\n",
        "\n",
        "## Task 1-\n",
        "Solve equation by iteration method.\n",
        "\n",
        "$3^x = x^2 + 2x $\n",
        "\n",
        "Find x.\n",
        "\n",
        "## Task 2\n",
        "\n",
        "L.L. Vant-Hull (Solar Energy, 18, 33 (1976)) derived the following equation for the geometrical concentration factor, C, in the study of solar energy. Given h = 290, C = 1100, F = 0.7, and     D = 13, \n",
        "\n",
        "$\\ C=\\frac{\\pi\\ {(\\frac{h}{cos\\ (A)})}^2\\ F\\ } {0.5 \\pi D^2(1\\ +\\ sin\\ \\left(A\\right)+\\ 0.5\\ cos\\ \\left(A\\right))}$\n",
        "\n",
        "\n",
        "write a program to find the value of A (in degree) in this equation.\n",
        "\n",
        "## Task 3 \n",
        "\n",
        "Write a computer program to show this identity as given\n",
        "\n",
        "$ Sin (A + B) = Sin A Cos B - Cos A Sin B$\n",
        "\n",
        " \n",
        "So let's type some code.\n",
        "\n",
        "Send your code pls."
      ],
      "metadata": {
        "id": "i3GXRVeE_YF6"
      }
    }
  ]
}
