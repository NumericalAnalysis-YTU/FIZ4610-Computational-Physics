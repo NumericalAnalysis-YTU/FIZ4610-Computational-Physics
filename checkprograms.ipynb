{
  "cells": [
    {
      "cell_type": "markdown",
      "metadata": {
        "id": "view-in-github",
        "colab_type": "text"
      },
      "source": [
        "<a href=\"https://colab.research.google.com/github/NumericalAnalysis-YTU/FIZ4610-Computational-Physics/blob/main/checkprograms.ipynb\" target=\"_parent\"><img src=\"https://colab.research.google.com/assets/colab-badge.svg\" alt=\"Open In Colab\"/></a>"
      ]
    },
    {
      "cell_type": "markdown",
      "source": [
        "#Answers\n",
        "\n",
        "# Problem  1.\tWhat are the common types of errors in numerical calculations and discuss their importance? How can these errors be reduced? Explain the terms 'overflow' and 'underflow'. How can overflow and underflow be avoided. \n",
        "\n",
        "Truncation – round-off – systematic – analytic -approximation errors. \n",
        "\n",
        "**Truncation error** is defined as the difference between the true (analytical) derivative of a function and its derivative obtained by numerical approximation.\n",
        "\n",
        "A truncation error is the difference between an actual and a truncated, or cut-off, value.\n",
        "\n",
        "**Rounding error** has significant effect to computations that have long and complex computing chains. The error can be caused by:\n",
        "\n",
        "Approximation errors due to digital computer limitations. \n",
        "- For example, using an incorrect data type for a \n",
        "variable.\n",
        "- For example, a variable that should store real number is set to have integer data type.\n",
        "\n",
        "There are two types of **approximation errors**: overflow and underflow errors.\n",
        "\n",
        "- Underflow error. This error occurs when a number close to zero is considered as zero.\n",
        "-Overflow error. This error occurs when a very large number is approximated as $∞$. In a real situation, many digital computers will consider is as a not-a-number\n",
        "\n",
        "**Overflow and underflow** are both errors resulting from a shortage of space. On the most basic level, they manifest in data types like integers and floating points.\n",
        "\n",
        "**Overflow errors** come up when working with integers and floating points, and \n",
        "\n",
        "**underflow errors** are generally just associated with floating points.\n",
        "\n",
        "The results from numerical analysis we found approximate values and if the errors are very big, we did not find the answer and trends from results. \n",
        "\n",
        "By making calculations accurately, and choosing optimized intervals, using advanced numerical formulas. "
      ],
      "metadata": {
        "id": "G6iViNzbhALT"
      }
    },
    {
      "cell_type": "markdown",
      "source": [
        "# OVERFLOW"
      ],
      "metadata": {
        "id": "EytmVO77fSpA"
      }
    },
    {
      "cell_type": "code",
      "execution_count": null,
      "metadata": {
        "colab": {
          "base_uri": "https://localhost:8080/",
          "height": 217
        },
        "id": "AVEUCpi_pZcc",
        "outputId": "65eeeb9c-f8c9-47db-f7c4-b6c872a7e9d6"
      },
      "outputs": [
        {
          "output_type": "error",
          "ename": "OverflowError",
          "evalue": "ignored",
          "traceback": [
            "\u001b[0;31m---------------------------------------------------------------------------\u001b[0m",
            "\u001b[0;31mOverflowError\u001b[0m                             Traceback (most recent call last)",
            "\u001b[0;32m<ipython-input-1-2dcdb7f84924>\u001b[0m in \u001b[0;36m<module>\u001b[0;34m\u001b[0m\n\u001b[1;32m      3\u001b[0m \u001b[0mn\u001b[0m \u001b[0;34m=\u001b[0m \u001b[0;36m2\u001b[0m\u001b[0;34m**\u001b[0m\u001b[0;36m10000\u001b[0m\u001b[0;34m\u001b[0m\u001b[0;34m\u001b[0m\u001b[0m\n\u001b[1;32m      4\u001b[0m \u001b[0;34m\u001b[0m\u001b[0m\n\u001b[0;32m----> 5\u001b[0;31m \u001b[0mdt\u001b[0m \u001b[0;34m=\u001b[0m \u001b[0;36m2\u001b[0m \u001b[0;34m*\u001b[0m \u001b[0mmath\u001b[0m\u001b[0;34m.\u001b[0m\u001b[0mpi\u001b[0m\u001b[0;34m/\u001b[0m\u001b[0mn\u001b[0m\u001b[0;34m\u001b[0m\u001b[0;34m\u001b[0m\u001b[0m\n\u001b[0m\u001b[1;32m      6\u001b[0m \u001b[0mprint\u001b[0m\u001b[0;34m(\u001b[0m\u001b[0mdt\u001b[0m\u001b[0;34m)\u001b[0m\u001b[0;34m\u001b[0m\u001b[0;34m\u001b[0m\u001b[0m\n",
            "\u001b[0;31mOverflowError\u001b[0m: int too large to convert to float"
          ]
        }
      ],
      "source": [
        "import math\n",
        "\n",
        "n = 2**10000\n",
        "\n",
        "dt = 2 * math.pi/n\n",
        "print(dt)"
      ]
    },
    {
      "cell_type": "code",
      "source": [
        "import math\n",
        "for i in range(1000,1030,1):\n",
        "  n = 2**i\n",
        "  dt = 2 * math.pi/n\n",
        "  print(dt, i)\n",
        "\n",
        "#####  UPTO 2^1023   ----> OVERFLOW\n",
        "\n",
        "print(dt)"
      ],
      "metadata": {
        "colab": {
          "base_uri": "https://localhost:8080/",
          "height": 651
        },
        "id": "BJYlb68ffauQ",
        "outputId": "54de1c52-ce1e-43db-e774-f9a2d5cc92f2"
      },
      "execution_count": null,
      "outputs": [
        {
          "output_type": "stream",
          "name": "stdout",
          "text": [
            "5.8638682555046795e-301 1000\n",
            "2.9319341277523397e-301 1001\n",
            "1.4659670638761699e-301 1002\n",
            "7.329835319380849e-302 1003\n",
            "3.6649176596904247e-302 1004\n",
            "1.8324588298452123e-302 1005\n",
            "9.162294149226062e-303 1006\n",
            "4.581147074613031e-303 1007\n",
            "2.2905735373065154e-303 1008\n",
            "1.1452867686532577e-303 1009\n",
            "5.7264338432662886e-304 1010\n",
            "2.8632169216331443e-304 1011\n",
            "1.4316084608165721e-304 1012\n",
            "7.158042304082861e-305 1013\n",
            "3.5790211520414304e-305 1014\n",
            "1.7895105760207152e-305 1015\n",
            "8.947552880103576e-306 1016\n",
            "4.473776440051788e-306 1017\n",
            "2.236888220025894e-306 1018\n",
            "1.118444110012947e-306 1019\n",
            "5.592220550064735e-307 1020\n",
            "2.7961102750323675e-307 1021\n",
            "1.3980551375161837e-307 1022\n",
            "6.990275687580919e-308 1023\n"
          ]
        },
        {
          "output_type": "error",
          "ename": "OverflowError",
          "evalue": "ignored",
          "traceback": [
            "\u001b[0;31m---------------------------------------------------------------------------\u001b[0m",
            "\u001b[0;31mOverflowError\u001b[0m                             Traceback (most recent call last)",
            "\u001b[0;32m<ipython-input-10-63a7a3db640d>\u001b[0m in \u001b[0;36m<module>\u001b[0;34m\u001b[0m\n\u001b[1;32m      2\u001b[0m \u001b[0;32mfor\u001b[0m \u001b[0mi\u001b[0m \u001b[0;32min\u001b[0m \u001b[0mrange\u001b[0m\u001b[0;34m(\u001b[0m\u001b[0;36m1000\u001b[0m\u001b[0;34m,\u001b[0m\u001b[0;36m1030\u001b[0m\u001b[0;34m,\u001b[0m\u001b[0;36m1\u001b[0m\u001b[0;34m)\u001b[0m\u001b[0;34m:\u001b[0m\u001b[0;34m\u001b[0m\u001b[0;34m\u001b[0m\u001b[0m\n\u001b[1;32m      3\u001b[0m   \u001b[0mn\u001b[0m \u001b[0;34m=\u001b[0m \u001b[0;36m2\u001b[0m\u001b[0;34m**\u001b[0m\u001b[0mi\u001b[0m\u001b[0;34m\u001b[0m\u001b[0;34m\u001b[0m\u001b[0m\n\u001b[0;32m----> 4\u001b[0;31m   \u001b[0mdt\u001b[0m \u001b[0;34m=\u001b[0m \u001b[0;36m2\u001b[0m \u001b[0;34m*\u001b[0m \u001b[0mmath\u001b[0m\u001b[0;34m.\u001b[0m\u001b[0mpi\u001b[0m\u001b[0;34m/\u001b[0m\u001b[0mn\u001b[0m\u001b[0;34m\u001b[0m\u001b[0;34m\u001b[0m\u001b[0m\n\u001b[0m\u001b[1;32m      5\u001b[0m   \u001b[0mprint\u001b[0m\u001b[0;34m(\u001b[0m\u001b[0mdt\u001b[0m\u001b[0;34m,\u001b[0m \u001b[0mi\u001b[0m\u001b[0;34m)\u001b[0m\u001b[0;34m\u001b[0m\u001b[0;34m\u001b[0m\u001b[0m\n\u001b[1;32m      6\u001b[0m \u001b[0;34m\u001b[0m\u001b[0m\n",
            "\u001b[0;31mOverflowError\u001b[0m: int too large to convert to float"
          ]
        }
      ]
    },
    {
      "cell_type": "markdown",
      "source": [
        "# UNDERFLOW"
      ],
      "metadata": {
        "id": "IiszIAhEfWEI"
      }
    },
    {
      "cell_type": "code",
      "source": [
        "import math\n",
        "for i in range(1000,1030,1):\n",
        "  n = 2**i\n",
        "  dt = 1/(2 * math.pi/n)\n",
        "  print(dt, i)\n",
        "\n",
        "#####  UPTO 2^1023 //// 6.990275687580919e-308  ----> OVERFLOW\n",
        "#####  UNDERFLOW   //// 1.4305587428785142e+307 ----> UNDERFLOW\n",
        "\n",
        "print(dt)"
      ],
      "metadata": {
        "colab": {
          "base_uri": "https://localhost:8080/",
          "height": 651
        },
        "id": "THQvrh6kgPxY",
        "outputId": "2c06c26b-db3e-42b5-e7d1-d8c07bb84a71"
      },
      "execution_count": null,
      "outputs": [
        {
          "output_type": "stream",
          "name": "stdout",
          "text": [
            "1.7053589139920642e+300 1000\n",
            "3.4107178279841284e+300 1001\n",
            "6.821435655968257e+300 1002\n",
            "1.3642871311936514e+301 1003\n",
            "2.7285742623873027e+301 1004\n",
            "5.457148524774605e+301 1005\n",
            "1.091429704954921e+302 1006\n",
            "2.182859409909842e+302 1007\n",
            "4.365718819819684e+302 1008\n",
            "8.731437639639369e+302 1009\n",
            "1.7462875279278737e+303 1010\n",
            "3.4925750558557475e+303 1011\n",
            "6.985150111711495e+303 1012\n",
            "1.397030022342299e+304 1013\n",
            "2.794060044684598e+304 1014\n",
            "5.588120089369196e+304 1015\n",
            "1.1176240178738392e+305 1016\n",
            "2.2352480357476784e+305 1017\n",
            "4.470496071495357e+305 1018\n",
            "8.940992142990714e+305 1019\n",
            "1.7881984285981427e+306 1020\n",
            "3.5763968571962854e+306 1021\n",
            "7.152793714392571e+306 1022\n",
            "1.4305587428785142e+307 1023\n"
          ]
        },
        {
          "output_type": "error",
          "ename": "OverflowError",
          "evalue": "ignored",
          "traceback": [
            "\u001b[0;31m---------------------------------------------------------------------------\u001b[0m",
            "\u001b[0;31mOverflowError\u001b[0m                             Traceback (most recent call last)",
            "\u001b[0;32m<ipython-input-11-4519046494a5>\u001b[0m in \u001b[0;36m<module>\u001b[0;34m\u001b[0m\n\u001b[1;32m      2\u001b[0m \u001b[0;32mfor\u001b[0m \u001b[0mi\u001b[0m \u001b[0;32min\u001b[0m \u001b[0mrange\u001b[0m\u001b[0;34m(\u001b[0m\u001b[0;36m1000\u001b[0m\u001b[0;34m,\u001b[0m\u001b[0;36m1030\u001b[0m\u001b[0;34m,\u001b[0m\u001b[0;36m1\u001b[0m\u001b[0;34m)\u001b[0m\u001b[0;34m:\u001b[0m\u001b[0;34m\u001b[0m\u001b[0;34m\u001b[0m\u001b[0m\n\u001b[1;32m      3\u001b[0m   \u001b[0mn\u001b[0m \u001b[0;34m=\u001b[0m \u001b[0;36m2\u001b[0m\u001b[0;34m**\u001b[0m\u001b[0mi\u001b[0m\u001b[0;34m\u001b[0m\u001b[0;34m\u001b[0m\u001b[0m\n\u001b[0;32m----> 4\u001b[0;31m   \u001b[0mdt\u001b[0m \u001b[0;34m=\u001b[0m \u001b[0;36m1\u001b[0m\u001b[0;34m/\u001b[0m\u001b[0;34m(\u001b[0m\u001b[0;36m2\u001b[0m \u001b[0;34m*\u001b[0m \u001b[0mmath\u001b[0m\u001b[0;34m.\u001b[0m\u001b[0mpi\u001b[0m\u001b[0;34m/\u001b[0m\u001b[0mn\u001b[0m\u001b[0;34m)\u001b[0m\u001b[0;34m\u001b[0m\u001b[0;34m\u001b[0m\u001b[0m\n\u001b[0m\u001b[1;32m      5\u001b[0m   \u001b[0mprint\u001b[0m\u001b[0;34m(\u001b[0m\u001b[0mdt\u001b[0m\u001b[0;34m,\u001b[0m \u001b[0mi\u001b[0m\u001b[0;34m)\u001b[0m\u001b[0;34m\u001b[0m\u001b[0;34m\u001b[0m\u001b[0m\n\u001b[1;32m      6\u001b[0m \u001b[0;34m\u001b[0m\u001b[0m\n",
            "\u001b[0;31mOverflowError\u001b[0m: int too large to convert to float"
          ]
        }
      ]
    },
    {
      "cell_type": "markdown",
      "source": [
        "# Problem 2: Write a program to calculate the trajectory of a ball that is thrown or kicked with an initial velocity V_0making an angle θ with the horizontal. The ball will follow a trajectory y = f(x) through the air \n",
        "\n",
        "$f(x) = x tan⁡θ - \\frac{1}{2} \\frac{g x^2}{(V_0 Cos^2 θ)} + y_0$\n",
        "\n",
        "# In this expression, $x$ is a horizontal coordinate, g=9.81 m/s^2 is the acceleration of gravity, $V_0$ is the size of the initial velocity that makes an angle with the x axis, $y_0$ is the initial position of the ball. The input values (given by keybord) are  $V_0, θ$ (in degree), $y_(0)$ and $x$, the output the trajectory of a ball at $x, f(x)$. \n"
      ],
      "metadata": {
        "id": "ipdQFQTtkT0I"
      }
    },
    {
      "cell_type": "code",
      "source": [
        "g= 9.81\t\t \t                  # m/s**2\n",
        "################################ assign number correctly  (2%)\n",
        "\n",
        "v0=float(input(\"vo=\"))        #\tinitial velocity\t \t\n",
        "thetad=float(input(\"theta (in degree)= \"))   # theta  degrees\n",
        "x=float(input(\"x (m)=\"))           # x = 0.5 \t\t\t# m\n",
        "y0=float(input(\"yo(m/sn)= \"))           # y0\t\t\t# m\n",
        "\n",
        "################################ Input by keybord  (4%)\n",
        "\n",
        "from math import pi, tan, cos\n",
        "#Use library for trigonometric functions  (3%)\n",
        "\n",
        "thetar=pi*thetad/180\n",
        "################################ The angles used in trigonometric functions in python is radians -> convert degree to radian (4%)\n",
        "\n",
        "y = x*tan(thetar) - 1/(2*v0**2)*g*x**2/((cos(thetar))**2) + y0\n",
        "################################ writing function in one line   (7%)\n",
        "\n",
        "print (\"y = %.1f m\" % y)\n",
        "print(\"y\", y)\n"
      ],
      "metadata": {
        "colab": {
          "base_uri": "https://localhost:8080/"
        },
        "id": "PYRsA8a-qQd9",
        "outputId": "3a9c4eb3-9a31-4e2f-de74-eac17890ab2d"
      },
      "execution_count": null,
      "outputs": [
        {
          "output_type": "stream",
          "name": "stdout",
          "text": [
            "vo=1\n",
            "theta (in degree)= 60\n",
            "x (m)=2\n",
            "yo(m/sn)= 1\n",
            "y = -74.0 m\n"
          ]
        }
      ]
    },
    {
      "cell_type": "code",
      "source": [
        "g= 9.81\t\t \t# m/s**2\n",
        "def f(x):\n",
        "  y = x*tan(thetar) - 1/(2*v0**2)*g*x**2/((cos(thetar))**2) + y0 \n",
        "  return y\n",
        "\n",
        "v0=float(input(\"vo=\"))        #\tinitial velocity\t \t\n",
        "thetad=float(input(\"theta (in degree)= \"))   # theta  degrees\n",
        "x=float(input(\"x (m)=\"))           # x = 0.5 \t\t\t# m\n",
        "y0=float(input(\"yo(m/sn)= \"))           # y0\t\t\t# m\n",
        "\n",
        "from math import pi, tan, cos\n",
        "thetar=pi*thetad/180\n",
        "\n",
        "#print (\"y = %.1f m\" % y)\n",
        "print(f(x))"
      ],
      "metadata": {
        "colab": {
          "base_uri": "https://localhost:8080/"
        },
        "id": "fu14PL8ueTMN",
        "outputId": "aaa38c27-e93f-490c-8ad4-41c7e667a495"
      },
      "execution_count": null,
      "outputs": [
        {
          "output_type": "stream",
          "name": "stdout",
          "text": [
            "vo=4\n",
            "theta (in degree)= 60\n",
            "x (m)=6\n",
            "yo(m/sn)= 4\n",
            "-29.752695154586718\n"
          ]
        }
      ]
    },
    {
      "cell_type": "markdown",
      "source": [
        "# Problem 3.  The next two iterative value of the root of $^2 - 4 = 0$ using the Newton-Rapson method, if the initial guess is 3.0?"
      ],
      "metadata": {
        "id": "JhaQkN1fzgVp"
      }
    },
    {
      "cell_type": "markdown",
      "source": [
        "Newton-Rapson Iteration Formula:\n",
        "$x_{i+1} = x_i - \\frac{f(x)}{f'(x)}$  is given in Hints."
      ],
      "metadata": {
        "id": "_7XR21Quz7jc"
      }
    },
    {
      "cell_type": "markdown",
      "source": [
        "$f(x)=x^2-4$  and $f'(x) = 2x $\n",
        "\n",
        "$x_{i+1} = x_i - \\frac{f(x)}{f'(x)} $\n",
        "\n",
        " $x_i = x_1 = 3 $  initial guesse (root)  \n",
        "\n",
        "and \n",
        "\n",
        "$x_2 = x_1 - \\frac{f(x_1)} {f'(x_1)} = 3 - \\frac{f(3)}{(f'(3)} \n",
        "     = 3 - \\frac{(3^2 - 4 ) }{(2*3)} = 3 -\\frac{5}{6} = \\frac{13}{6}$ = 2.176\n",
        "\n",
        "and  \n",
        "\n",
        "$x_3 = x_2 - \\frac{(x_2 )}{(f' (x_2) } = 2.17- \\frac{f(2.17)}{(f'(2.17)} = 2.17-\\frac {(2.17^2-4)}{(2*2.17)} = 2.17 - \\frac{0,7089}{4,34} $ =2.006\n"
      ],
      "metadata": {
        "id": "TsaGELQA0m48"
      }
    },
    {
      "cell_type": "code",
      "source": [
        "import numpy as np\n",
        "\n",
        "x_i = 3\n",
        "\n",
        "f = lambda x: x**2 - 4      #function given in eqn\n",
        "\n",
        "f_prime = lambda x: 2*x    # first derivative\n",
        "\n",
        "newton_raphson = x_i - (f(x_i))/(f_prime(x_i))\n",
        "\n",
        "print(\"newton_raphson =\", newton_raphson)\n",
        "\n",
        "print(\"sqrt(2) =\", np.sqrt(2))\n"
      ],
      "metadata": {
        "colab": {
          "base_uri": "https://localhost:8080/"
        },
        "id": "-Rlh1QNkzfdn",
        "outputId": "6659f071-517b-4895-dfe5-876eec70d80c"
      },
      "execution_count": null,
      "outputs": [
        {
          "output_type": "stream",
          "name": "stdout",
          "text": [
            "newton_raphson = 2.1666666666666665\n",
            "sqrt(2) = 1.4142135623730951\n"
          ]
        }
      ]
    },
    {
      "cell_type": "code",
      "source": [
        "import numpy as np\n",
        "\n",
        "x_i = 3\n",
        "\n",
        "f = lambda x: x**2 - 4      #function given in eqn\n",
        "\n",
        "f_prime = lambda x: 2*x    # first derivative\n",
        "\n",
        "for i in range (1,10,1):\n",
        "  x_n = x_i - (f(x_i))/(f_prime(x_i))\n",
        "  x_i= x_n\n",
        "  print(\"newton_raphson =\", x_i, i)\n",
        "\n",
        "print(\"sqrt(2) =\", np.sqrt(2))"
      ],
      "metadata": {
        "colab": {
          "base_uri": "https://localhost:8080/"
        },
        "id": "PhZT1uzA4YVy",
        "outputId": "e8f3c6c5-75bd-40e1-9ca4-fd8fe09baffa"
      },
      "execution_count": null,
      "outputs": [
        {
          "output_type": "stream",
          "name": "stdout",
          "text": [
            "newton_raphson = 2.1666666666666665 1\n",
            "newton_raphson = 2.0064102564102564 2\n",
            "newton_raphson = 2.0000102400262145 3\n",
            "newton_raphson = 2.000000000026214 4\n",
            "newton_raphson = 2.0 5\n",
            "newton_raphson = 2.0 6\n",
            "newton_raphson = 2.0 7\n",
            "newton_raphson = 2.0 8\n",
            "newton_raphson = 2.0 9\n",
            "sqrt(2) = 1.4142135623730951\n"
          ]
        }
      ]
    },
    {
      "cell_type": "markdown",
      "source": [
        "# Problem 3. \tCompare the Trapezoidal Rule and Simpson’s 1/3 Rule approximations of one segment (n=1) to $  ∫_{0}^{2} {x^2} dx$ or $  ∫_{0}^{2} {x^3}  dx $.\n",
        "\n",
        "## HINTS:\n",
        "\n",
        "**Trapezoidal Method:** $  ∫_{a}^{b} {f(x)} dx = h  \\frac{(f(a)+ f(b))}{2}$       \n",
        "\n",
        "**Simpsons 1/3 Method:** $  ∫_{a}^{b} {f(x)} dx= h \\frac{( f(a) + 4 f(a+ih) + f(b))}{3}$\n",
        "\n",
        "n must be even integer for Simpsons Rule and\n",
        "\n",
        "$h = \\frac{(b-a)}{n}$.\n",
        "\n",
        "where  $y_0 = f(x0) = f(a)$,  $y1 = f(x1) = f(a + h)$,  $y2 = f(x2) = f(a + 2h) … yn = f(a + nh)$\n",
        "\n"
      ],
      "metadata": {
        "id": "FdWCOYjRFcEb"
      }
    },
    {
      "cell_type": "markdown",
      "source": [
        "\n",
        "$  ∫_{0}^{2} {x^3}  dx $.\n",
        "\n",
        "\n",
        "\n",
        "a=0\n",
        "\n",
        "b=2\n",
        "\n",
        "*\\# upper and lower bounds integral (4%)*\n",
        "_____________\n",
        "$ h = \\frac{2-0}{n}$\n",
        "\n",
        "*\\#  intervals (2%)*\n",
        "_________\n",
        "\n",
        "**Trapezoidal Method:** \n",
        "\n",
        "$ ∫_{0}^{2} {x^2}  dx = I = \\frac{(2 - 0)}{1} \\frac{(f(0)+ f(2))}{2}$ \n",
        "\n",
        "\n",
        "$ ∫_{0}^{2} x^3 dx  = I = \\frac{(2 - 0)}{1} \\frac{(f(0)+ f(2))}{2}$ \n",
        "\n",
        "\n",
        "*\\# Trapezoidal Rule Application (6%)*       \n",
        "____\n",
        "**Simpsons 1/3 Method:** \n",
        "\n",
        "n must be even integer for Simpsons Rule \n",
        "\n",
        "$∫_{0}^{2} {x^2}dx = I =\\frac{(2-0)}{2} \\frac{( f(a) + 4 f(a+ih) + f(b))}{3}$\n",
        "\n",
        "$∫_{0}^{2} {x^3}dx = I =\\frac{(2-0)}{2} \\frac{( f(a) + 4 f(a+ih) + f(b))}{3}$\n",
        "\n",
        "*\\# Simpson's Rule Application (6%)*    \n",
        "____\n",
        "\n",
        "$ f(x) = x^2 $ \n",
        "\n",
        "$I_{Trapezoidal} = 0^2 +2^2 = 4$\n",
        "$I_{Simspson's} = \\frac{1}{3} (0^2 + 4 * 1^2 + 2^2 ) = \\frac{8}{3}=4 $\n",
        "\n",
        "$ f(x) = x^3 $ \n",
        "\n",
        "$I_{Trapezoidal} = 0^3 +2^3 = 8$\n",
        "$I_{Simspson's} = \\frac{1}{3} (0^3 + 4 * 1^3 + 2^3 ) = \\frac{12}{3}=4 $\n",
        "\n",
        "The Simsposon's Rule is significantly superior.\n",
        "\n",
        "*\\# Discussion (2%)*"
      ],
      "metadata": {
        "id": "j3A7SrOSGAhr"
      }
    },
    {
      "cell_type": "code",
      "source": [
        "# Trapezoidal Method\n",
        "\n",
        "# Define function to integrate\n",
        "def f(x):\n",
        "    return x**2\n",
        "\n",
        "# Implementing trapezoidal method\n",
        "def trapezoidal(x0,xn,n):\n",
        "    # calculating step size\n",
        "    h = (xn - x0) / n\n",
        "    \n",
        "    # Finding sum \n",
        "    integration = f(x0) + f(xn)\n",
        "    \n",
        "    for i in range(1,n):\n",
        "        k = x0 + i*h\n",
        "        integration = integration + 2 * f(k)\n",
        "    \n",
        "    # Finding final integration value\n",
        "    integration = integration * h/2\n",
        "    \n",
        "    return integration\n",
        "    \n",
        "# Input section\n",
        "lower_limit = float(input(\"Enter lower limit of integration: \"))\n",
        "upper_limit = float(input(\"Enter upper limit of integration: \"))\n",
        "sub_interval = int(input(\"Enter number of sub intervals: \"))\n",
        "\n",
        "# Call trapezoidal() method and get result\n",
        "result = trapezoidal(lower_limit, upper_limit, sub_interval)\n",
        "print(\"Integration result by Trapezoidal method is: %0.6f\" % (result) )"
      ],
      "metadata": {
        "colab": {
          "base_uri": "https://localhost:8080/"
        },
        "id": "6Dki2ESEPcHk",
        "outputId": "201e82be-5815-41ff-be49-89875f183e45"
      },
      "execution_count": null,
      "outputs": [
        {
          "output_type": "stream",
          "name": "stdout",
          "text": [
            "Enter lower limit of integration: 0\n",
            "Enter upper limit of integration: 0\n",
            "Enter number of sub intervals: 2\n",
            "Integration result by Trapezoidal method is: 0.000000\n"
          ]
        }
      ]
    },
    {
      "cell_type": "code",
      "source": [
        "import numpy as np\n",
        "\n",
        "a = 0\n",
        "b =2\n",
        "n = 2 # n must be even\n",
        "\n",
        "h = (b - a) / (n)\n",
        "\n",
        "def f(x):  \n",
        "  return x**3\n",
        "\n",
        "for i in range(1,n):\n",
        "  I_simp = (h/3) * (f(a) + 4*f(a + i*h) + f(b))\n",
        "  print(a+i*h, f(a), 4*f(a+i*h),f(b))\n",
        "print(I_simp)\n"
      ],
      "metadata": {
        "colab": {
          "base_uri": "https://localhost:8080/"
        },
        "id": "ITuAF7kES93r",
        "outputId": "91ba93fc-2351-466a-f30c-4a929dcaca2e"
      },
      "execution_count": null,
      "outputs": [
        {
          "output_type": "stream",
          "name": "stdout",
          "text": [
            "1.0 0 4.0 8\n",
            "4.0\n"
          ]
        }
      ]
    },
    {
      "cell_type": "markdown",
      "source": [
        "# Problem 5. \tWrite a function for calculating the value $e^{-x}$ function from their power-series expansion. The inputs of your program are x and n.\n",
        "\n",
        "$e^{-x} = \\sum_0^{\\infty} \\frac{x^n}{n!} = 1 - \\frac {x}{1!} + \\frac{x^2}{2!} - \\frac{x^3}{3!} + \\frac{x^4}{4!} - \\ldots $\n",
        "\n",
        "\n",
        "\n",
        "$e^{+x} = \\sum_0^{\\infty} \\frac{x^n}{n!} = 1 + \\frac {x}{1!} + \\frac{x^2}{2!} + \\frac{x^3}{3!} + \\frac{x^4}{4!} + \\ldots $"
      ],
      "metadata": {
        "id": "hgIcdt5jg4wF"
      }
    },
    {
      "cell_type": "code",
      "source": [
        "###          e^-x\n",
        "\n",
        "def fact(i):\n",
        "    if i==1:\n",
        "        return 1\n",
        "    else:\n",
        "        return i*fact(i-1)\n",
        "x = int(input(\"Enter a number x as: - \"))\n",
        "n = int(input(\"Enter # of elements : \"))\n",
        "\n",
        "print(\"x = \", x)\n",
        "\n",
        "sum=1\n",
        "\n",
        "for i in range(1, n):\n",
        "    sum= sum + (-1)**i*pow(x,i) / fact(i)\n",
        "print(\"The exponential value of \", x , \"is\", sum, \"true value\", math.exp(-x) )\n"
      ],
      "metadata": {
        "colab": {
          "base_uri": "https://localhost:8080/"
        },
        "id": "mDHl5XwMiBg0",
        "outputId": "1487f517-b3af-488b-852b-2a2c423cce99"
      },
      "execution_count": null,
      "outputs": [
        {
          "output_type": "stream",
          "name": "stdout",
          "text": [
            "Enter a number x as: - 5\n",
            "Enter # of elements : 20\n",
            "x =  5\n",
            "The exponential value of  5 is 0.00670634105421557 true value 0.006737946999085467\n"
          ]
        }
      ]
    },
    {
      "cell_type": "code",
      "source": [
        "#######   e^x\n",
        "\n",
        "def fact(i):\n",
        "    if i==1:\n",
        "        return 1\n",
        "    else:\n",
        "        return i*fact(i-1)\n",
        "x = int(input(\"Enter a number as : +\"))\n",
        "n = int(input(\"Enter # of elements: \"))\n",
        "\n",
        "print(\"x = \",x)\n",
        "\n",
        "sum=1\n",
        "for i in range(1, n):\n",
        "    sum= sum +  pow(x,i)/fact(i)\n",
        "print(\"The exponential value of\", x , \"is\", sum,  math.exp(x))\n"
      ],
      "metadata": {
        "colab": {
          "base_uri": "https://localhost:8080/"
        },
        "id": "dRu7HR0PiCZM",
        "outputId": "5e741572-32a5-4ad9-91ee-884149a211cf"
      },
      "execution_count": null,
      "outputs": [
        {
          "output_type": "stream",
          "name": "stdout",
          "text": [
            "Enter a number as : +5\n",
            "Enter # of elements: 10\n",
            "x =  5\n",
            "The exponential value of 5 is 143.68945656966488 148.4131591025766\n"
          ]
        }
      ]
    },
    {
      "cell_type": "markdown",
      "source": [
        "____________________________________________________________________________\n"
      ],
      "metadata": {
        "id": "IN9dGe-6iK1d"
      }
    },
    {
      "cell_type": "code",
      "source": [
        "# Trapezoid integration using a defined function = t^2\n",
        "a = 0.0\n",
        "b = 2.0\n",
        "N = 10\n",
        "\n",
        "def f(y):                                             # The function being integrated\n",
        "   return y*y\n",
        "\n",
        "h = (b - a)/(N+1)\n",
        "\n",
        "print(\"h\", h )\n",
        "\n",
        "suma = 0.0\n",
        "\n",
        "for i in range(1, N + 1):\n",
        "    t = a + (i - 1) * h\n",
        "    suma  = suma + h  * f(t)\n",
        "    print('\\n Final sum = ', suma, i)"
      ],
      "metadata": {
        "colab": {
          "base_uri": "https://localhost:8080/"
        },
        "id": "Z934ABtxM9lL",
        "outputId": "2fe903f0-96aa-4149-ff32-20973dea7829"
      },
      "execution_count": null,
      "outputs": [
        {
          "output_type": "stream",
          "name": "stdout",
          "text": [
            "h 0.18181818181818182\n",
            "\n",
            " Final sum =  0.0 1\n",
            "\n",
            " Final sum =  0.006010518407212622 2\n",
            "\n",
            " Final sum =  0.030052592036063114 3\n",
            "\n",
            " Final sum =  0.0841472577009767 4\n",
            "\n",
            " Final sum =  0.18031555221637866 5\n",
            "\n",
            " Final sum =  0.3305785123966942 6\n",
            "\n",
            " Final sum =  0.5469571750563486 7\n",
            "\n",
            " Final sum =  0.8414725770097671 8\n",
            "\n",
            " Final sum =  1.226145755071375 9\n",
            "\n",
            " Final sum =  1.7129977460555974 10\n"
          ]
        }
      ]
    },
    {
      "cell_type": "code",
      "source": [
        "import math\n",
        "y=math.factorial(5)   # not math.fact(5)\n",
        "y2= math.fact(5)      #math.fact is not working !!!!! \n",
        "print( \"5!  = \", y, y2 )"
      ],
      "metadata": {
        "colab": {
          "base_uri": "https://localhost:8080/",
          "height": 217
        },
        "id": "oKLwktaip9Mp",
        "outputId": "c52e999e-dcd7-4e09-9efa-1bd80e082f31"
      },
      "execution_count": null,
      "outputs": [
        {
          "output_type": "error",
          "ename": "AttributeError",
          "evalue": "ignored",
          "traceback": [
            "\u001b[0;31m---------------------------------------------------------------------------\u001b[0m",
            "\u001b[0;31mAttributeError\u001b[0m                            Traceback (most recent call last)",
            "\u001b[0;32m<ipython-input-86-c28e5e61673d>\u001b[0m in \u001b[0;36m<module>\u001b[0;34m\u001b[0m\n\u001b[1;32m      1\u001b[0m \u001b[0;32mimport\u001b[0m \u001b[0mmath\u001b[0m\u001b[0;34m\u001b[0m\u001b[0;34m\u001b[0m\u001b[0m\n\u001b[1;32m      2\u001b[0m \u001b[0my\u001b[0m\u001b[0;34m=\u001b[0m\u001b[0mmath\u001b[0m\u001b[0;34m.\u001b[0m\u001b[0mfactorial\u001b[0m\u001b[0;34m(\u001b[0m\u001b[0;36m5\u001b[0m\u001b[0;34m)\u001b[0m   \u001b[0;31m# not math.fact(5)\u001b[0m\u001b[0;34m\u001b[0m\u001b[0;34m\u001b[0m\u001b[0m\n\u001b[0;32m----> 3\u001b[0;31m \u001b[0my2\u001b[0m\u001b[0;34m=\u001b[0m \u001b[0mmath\u001b[0m\u001b[0;34m.\u001b[0m\u001b[0mfact\u001b[0m\u001b[0;34m(\u001b[0m\u001b[0;36m5\u001b[0m\u001b[0;34m)\u001b[0m\u001b[0;34m\u001b[0m\u001b[0;34m\u001b[0m\u001b[0m\n\u001b[0m\u001b[1;32m      4\u001b[0m \u001b[0mprint\u001b[0m\u001b[0;34m(\u001b[0m \u001b[0;34m\"5!  = \"\u001b[0m\u001b[0;34m,\u001b[0m \u001b[0my\u001b[0m\u001b[0;34m,\u001b[0m \u001b[0my2\u001b[0m \u001b[0;34m)\u001b[0m\u001b[0;34m\u001b[0m\u001b[0;34m\u001b[0m\u001b[0m\n",
            "\u001b[0;31mAttributeError\u001b[0m: module 'math' has no attribute 'fact'"
          ]
        }
      ]
    },
    {
      "cell_type": "code",
      "source": [
        "def fact(i):\n",
        "    if i==1:\n",
        "        return 1\n",
        "    else:\n",
        "        return i*fact(i-1)\n",
        "\n",
        "x = int(input(\"Enter a number: \"))\n",
        "n = int(input(\"Enter # of elements: \"))\n",
        "from math import exp\n",
        "sum=1\n",
        "for i in range(1, n):\n",
        "    sum= sum +(-1)**i*pow(x,i)/fact(i)\n",
        "    print(sum,i,(-1)**i)\n",
        "print(\"The exponential value of\", x , \"is\", sum )\n",
        "print(exp(-x))\n",
        "# print(\"The exponential value of {} is {}\",.format(x,sum))\n"
      ],
      "metadata": {
        "colab": {
          "base_uri": "https://localhost:8080/"
        },
        "id": "DI6J-FUswW3e",
        "outputId": "85257406-9362-49f3-aabb-8a870c37f661"
      },
      "execution_count": null,
      "outputs": [
        {
          "output_type": "stream",
          "name": "stdout",
          "text": [
            "Enter a number: 11\n",
            "Enter # of elements: 1\n",
            "The exponential value of 11 is 1\n",
            "1.670170079024566e-05\n"
          ]
        }
      ]
    },
    {
      "cell_type": "code",
      "execution_count": null,
      "metadata": {
        "colab": {
          "base_uri": "https://localhost:8080/"
        },
        "id": "sPWN_jLUuL_h",
        "outputId": "f52c9477-b31f-4163-8275-7bfe80d3c7c4"
      },
      "outputs": [
        {
          "output_type": "stream",
          "name": "stdout",
          "text": [
            "input the number of intervals1\n",
            "The integral =  244.0\n"
          ]
        }
      ],
      "source": [
        "def func(x):\n",
        " return x**5\n",
        "\n",
        "#input the lower and upper limit\n",
        "n=int((input(\"input the number of intervals\")))           \t\t# input the number of intervals\n",
        "\n",
        "# the interval size \n",
        "#Your code is here...\n",
        "b=3\n",
        "a=1\n",
        "h=(b-a)/n\n",
        "\n",
        "etf=float((func(a)+func(b))/2)              # sum the end points\n",
        "\n",
        "for i in range(1,n):\n",
        "  x = a + i*h                    #calculate the evaluation position \n",
        "  etf = etf + func(x)            # sum over the remaining points\n",
        "                              # complete the ETF\n",
        "  print(etf) \n",
        "\n",
        "etf = etf*h \n",
        "\n",
        "print ('The integral = ',etf )  "
      ]
    },
    {
      "cell_type": "code",
      "execution_count": null,
      "metadata": {
        "colab": {
          "base_uri": "https://localhost:8080/"
        },
        "id": "IaKw9gRqtDO7",
        "outputId": "70d33192-79c4-49aa-9239-b284c3e47512"
      },
      "outputs": [
        {
          "output_type": "stream",
          "name": "stdout",
          "text": [
            "2\n",
            "3\n",
            "4\n",
            "5\n"
          ]
        }
      ],
      "source": [
        "for x in range(2, 6):\n",
        "  print(x)"
      ]
    },
    {
      "cell_type": "code",
      "execution_count": null,
      "metadata": {
        "colab": {
          "base_uri": "https://localhost:8080/"
        },
        "id": "aSxJQqqGsp_r",
        "outputId": "62a14769-89ba-4ef4-d2e5-e7381c0b0ad2"
      },
      "outputs": [
        {
          "output_type": "stream",
          "name": "stdout",
          "text": [
            "0, 1, 2, 3, 4, "
          ]
        }
      ],
      "source": [
        "for i in range(5):\n",
        "    print(i, end=\", \") # prints: 0, 1, 2, 3, 4, \n",
        "    "
      ]
    },
    {
      "cell_type": "code",
      "execution_count": null,
      "metadata": {
        "colab": {
          "base_uri": "https://localhost:8080/"
        },
        "id": "cvakDQXftbxx",
        "outputId": "bcdafe25-669a-4ea5-ed0c-08e435c171c5"
      },
      "outputs": [
        {
          "output_type": "stream",
          "name": "stdout",
          "text": [
            "True\n"
          ]
        }
      ],
      "source": [
        "def is_prime (x):\n",
        "    for i in range(2, x-1, 1):\n",
        "        if (x % i == 0):\n",
        "            return False\n",
        "    return True\n",
        "\n",
        "print(is_prime(5))"
      ]
    }
  ],
  "metadata": {
    "colab": {
      "provenance": [],
      "authorship_tag": "ABX9TyM5hyd/hE/VP4SHH2dGmRdW",
      "include_colab_link": true
    },
    "kernelspec": {
      "display_name": "Python 3",
      "name": "python3"
    },
    "language_info": {
      "name": "python"
    }
  },
  "nbformat": 4,
  "nbformat_minor": 0
}