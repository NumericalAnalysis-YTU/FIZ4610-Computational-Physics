{
  "nbformat": 4,
  "nbformat_minor": 0,
  "metadata": {
    "colab": {
      "provenance": [],
      "authorship_tag": "ABX9TyP8eQAbQNmGbkTozgkBVYfv",
      "include_colab_link": true
    },
    "kernelspec": {
      "name": "python3",
      "display_name": "Python 3"
    },
    "language_info": {
      "name": "python"
    }
  },
  "cells": [
    {
      "cell_type": "markdown",
      "metadata": {
        "id": "view-in-github",
        "colab_type": "text"
      },
      "source": [
        "<a href=\"https://colab.research.google.com/github/NumericalAnalysis-YTU/FIZ4610-Computational-Physics/blob/main/checkprograms.ipynb\" target=\"_parent\"><img src=\"https://colab.research.google.com/assets/colab-badge.svg\" alt=\"Open In Colab\"/></a>"
      ]
    },
    {
      "cell_type": "code",
      "source": [
        "# An example of studying the motion of a particle in\n",
        "# one dimension under an elastic force.\n",
        "import math\n",
        "from pylab import *\n",
        "\n",
        "n = 100000\n",
        "\n",
        "#  Assign time step and initial position and velocity\n",
        "g = 9.8     # We are on Earth.\n",
        "n = 10000     # I'd like to see n points in the answer array\n",
        "vi = 1    # initial velocity\n",
        "xi = 0    # initial position\n",
        "dt = 2 * math.pi/n\n",
        "\n",
        "# first, set up variables and almost-empty arrays to hold our answers:\n",
        "t = 0\n",
        "x = xi\n",
        "v = vi\n",
        "time = array([0])       # initial value of time is zero!\n",
        "height  = array([xi])    # initial height is xi\n",
        "velocity = array([vi])  # initial velocity is vi\n",
        "\n",
        "\n",
        "# Now let's use Euler's method to find the position and velocity.\n",
        "for j in range(n):\n",
        "    # here are the calculations:\n",
        "    t = t + dt\n",
        "#    x = x + v * dt\n",
        "#    v = v - g * dt\n",
        "# Calculate other position and velocity recursively\n",
        "    x = x + v * dt\n",
        "    v = v - x*dt\n",
        "\n",
        "\n",
        "    # And here we put those calculations in the arrays to plot later:\n",
        "    time = append(time,t)\n",
        "    height  = append(height,x)\n",
        "    velocity = append(velocity,v)\n",
        "\n",
        "# Now that the calculations are done, plot the position:\n",
        "plot(time, height , 'ro', time, velocity)\n",
        "xlabel(\"Time (s)\")\n",
        "ylabel(\"Value \")\n",
        "\n",
        "# just for comparison, I'll also plot the known solution!\n",
        "# plot(time, xi + vi*time - 0.5*g*time**2, 'b-')\n",
        "# %show()\n"
      ],
      "metadata": {
        "colab": {
          "base_uri": "https://localhost:8080/",
          "height": 296
        },
        "id": "NnpJWolnm6OX",
        "outputId": "90bfddef-b7b5-4064-b70f-292f6e7d3d61"
      },
      "execution_count": 1,
      "outputs": [
        {
          "output_type": "execute_result",
          "data": {
            "text/plain": [
              "Text(0, 0.5, 'Value ')"
            ]
          },
          "metadata": {},
          "execution_count": 1
        },
        {
          "output_type": "display_data",
          "data": {
            "text/plain": [
              "<Figure size 432x288 with 1 Axes>"
            ],
            "image/png": "[encoded data removed]"
          },
          "metadata": {
            "needs_background": "light"
          }
        }
      ]
    },
    {
      "cell_type": "code",
      "source": [
        "def func(x):\n",
        " return x**5\n",
        "\n",
        "#input the lower and upper limit\n",
        "n=int((input(\"input the number of intervals\")))           \t\t# input the number of intervals\n",
        "\n",
        "# the interval size \n",
        "#Your code is here...\n",
        "b=3\n",
        "a=1\n",
        "h=(b-a)/n\n",
        "\n",
        "etf=float((func(a)+func(b))/2)              # sum the end points\n",
        "\n",
        "for i in range(1,n):\n",
        "  x = a + i*h                    #calculate the evaluation position \n",
        "  etf = etf + func(x)            # sum over the remaining points\n",
        "                              # complete the ETF\n",
        "  print(etf) \n",
        "\n",
        "etf = etf*h \n",
        "\n",
        "print ('The integral = ',etf )  "
      ],
      "metadata": {
        "colab": {
          "base_uri": "https://localhost:8080/"
        },
        "id": "sPWN_jLUuL_h",
        "outputId": "54dacb3b-2685-4a1f-b98b-8634528ec517"
      },
      "execution_count": null,
      "outputs": [
        {
          "output_type": "stream",
          "name": "stdout",
          "text": [
            "input the number of intervals10\n",
            "124.48832\n",
            "129.86656\n",
            "140.35232\n",
            "159.248\n",
            "191.248\n",
            "242.78432\n",
            "322.41056000000003\n",
            "441.22432000000003\n",
            "613.328\n",
            "The integral =  122.6656\n"
          ]
        }
      ]
    },
    {
      "cell_type": "code",
      "source": [
        "from pylab import *\n",
        "\n",
        "g = 9.8     # We are on Earth.\n",
        "dt = 0.1    # 1/10 second time step\n",
        "N = 100     # I'd like to see 100 points in the answer array\n",
        "vi = 50.0    # initial velocity\n",
        "xi = 25.0    # initial position\n",
        "\n",
        "# first, set up variables and almost-empty arrays to hold our answers:\n",
        "t = 0\n",
        "x = xi\n",
        "v = vi\n",
        "time = array([0])       # initial value of time is zero!\n",
        "height = array([xi])    # initial height is xi\n",
        "velocity = array([vi])  # initial velocity is vi\n",
        "# Note that 't', 'x' and 'v' are the current time, position and velocity, but \n",
        "# 'time', 'height' and 'velocity' are arrays that will contain all the positions\n",
        "# and velocities at all values of 'time'.\n",
        "\n",
        "# Now let's use Euler's method to find the position and velocity.\n",
        "for j in range(N):\n",
        "    # here are the calculations:\n",
        "    t = t + dt\n",
        "    x = x + v * dt\n",
        "    v = v - g * dt\n",
        "    # And here we put those calculations in the arrays to plot later:\n",
        "    time = append(time,t)\n",
        "    height = append(height,x)\n",
        "    velocity = append(velocity,v)\n",
        "\n",
        "# Now that the calculations are done, plot the position:\n",
        "plot(time, height, 'ro')\n",
        "xlabel(\"Time (s)\")\n",
        "ylabel(\"Height (m)\")\n",
        "\n",
        "# just for comparison, I'll also plot the known solution!\n",
        "plot(time, xi + vi*time - 0.5*g*time**2, 'b-')\n",
        "show()"
      ],
      "metadata": {
        "colab": {
          "base_uri": "https://localhost:8080/",
          "height": 281
        },
        "id": "Jg59_00Irxs1",
        "outputId": "f128e496-2672-46fc-8bf0-fb6692223eea"
      },
      "execution_count": 2,
      "outputs": [
        {
          "output_type": "display_data",
          "data": {
            "text/plain": [
              "<Figure size 432x288 with 1 Axes>"
            ],
            "image/png": "[encoded data removed]"
          },
          "metadata": {
            "needs_background": "light"
          }
        }
      ]
    },
    {
      "cell_type": "code",
      "source": [
        "import math\n",
        "\n",
        "n = 2**10000\n",
        "\n",
        "dt = 2 * math.pi/n\n",
        "print(dt)"
      ],
      "metadata": {
        "colab": {
          "base_uri": "https://localhost:8080/",
          "height": 217
        },
        "id": "AVEUCpi_pZcc",
        "outputId": "f63c421e-9e02-400d-a797-9560f5dc2d58"
      },
      "execution_count": 5,
      "outputs": [
        {
          "output_type": "error",
          "ename": "OverflowError",
          "evalue": "ignored",
          "traceback": [
            "\u001b[0;31m---------------------------------------------------------------------------\u001b[0m",
            "\u001b[0;31mOverflowError\u001b[0m                             Traceback (most recent call last)",
            "\u001b[0;32m<ipython-input-5-2dcdb7f84924>\u001b[0m in \u001b[0;36m<module>\u001b[0;34m\u001b[0m\n\u001b[1;32m      3\u001b[0m \u001b[0mn\u001b[0m \u001b[0;34m=\u001b[0m \u001b[0;36m2\u001b[0m\u001b[0;34m**\u001b[0m\u001b[0;36m10000\u001b[0m\u001b[0;34m\u001b[0m\u001b[0;34m\u001b[0m\u001b[0m\n\u001b[1;32m      4\u001b[0m \u001b[0;34m\u001b[0m\u001b[0m\n\u001b[0;32m----> 5\u001b[0;31m \u001b[0mdt\u001b[0m \u001b[0;34m=\u001b[0m \u001b[0;36m2\u001b[0m \u001b[0;34m*\u001b[0m \u001b[0mmath\u001b[0m\u001b[0;34m.\u001b[0m\u001b[0mpi\u001b[0m\u001b[0;34m/\u001b[0m\u001b[0mn\u001b[0m\u001b[0;34m\u001b[0m\u001b[0;34m\u001b[0m\u001b[0m\n\u001b[0m\u001b[1;32m      6\u001b[0m \u001b[0mprint\u001b[0m\u001b[0;34m(\u001b[0m\u001b[0mdt\u001b[0m\u001b[0;34m)\u001b[0m\u001b[0;34m\u001b[0m\u001b[0;34m\u001b[0m\u001b[0m\n",
            "\u001b[0;31mOverflowError\u001b[0m: int too large to convert to float"
          ]
        }
      ]
    },
    {
      "cell_type": "code",
      "source": [
        "for x in range(2, 6):\n",
        "  print(x)"
      ],
      "metadata": {
        "colab": {
          "base_uri": "https://localhost:8080/"
        },
        "id": "IaKw9gRqtDO7",
        "outputId": "352a80b0-4b16-467e-8682-d77c840298d9"
      },
      "execution_count": 6,
      "outputs": [
        {
          "output_type": "stream",
          "name": "stdout",
          "text": [
            "2\n",
            "3\n",
            "4\n",
            "5\n"
          ]
        }
      ]
    },
    {
      "cell_type": "code",
      "source": [
        "for i in range(5):\n",
        "    print(i, end=\", \") # prints: 0, 1, 2, 3, 4, \n",
        "    "
      ],
      "metadata": {
        "colab": {
          "base_uri": "https://localhost:8080/"
        },
        "id": "aSxJQqqGsp_r",
        "outputId": "e5b8caeb-2ef2-440c-84ae-8ba2d6582eda"
      },
      "execution_count": 9,
      "outputs": [
        {
          "output_type": "stream",
          "name": "stdout",
          "text": [
            "0, 1, 2, 3, 4, "
          ]
        }
      ]
    },
    {
      "cell_type": "code",
      "source": [
        "def is_prime (x):\n",
        "    for i in range(2, x-1, 1):\n",
        "        if (x % i == 0):\n",
        "            return False\n",
        "    return True\n",
        "\n",
        "print(is_prime(5))"
      ],
      "metadata": {
        "colab": {
          "base_uri": "https://localhost:8080/"
        },
        "id": "cvakDQXftbxx",
        "outputId": "4cf781b6-b7e9-4a01-d76f-fe455eb3dc20"
      },
      "execution_count": 11,
      "outputs": [
        {
          "output_type": "stream",
          "name": "stdout",
          "text": [
            "True\n"
          ]
        }
      ]
    },
    {
      "cell_type": "code",
      "source": [
        "# check if the number is negative, positive or zero\n",
        "num=5\n",
        "factorial = 1\n",
        "\n",
        "for i in range(1,num + 1):\n",
        "    factorial=factorial*i\n",
        "\n",
        "print(\"The factorial of\",num,\"is\",factorial)"
      ],
      "metadata": {
        "id": "blfun_nfidWd",
        "outputId": "ab3fbe79-c7e3-405e-e735-0a1212084c63",
        "colab": {
          "base_uri": "https://localhost:8080/"
        }
      },
      "execution_count": 19,
      "outputs": [
        {
          "output_type": "stream",
          "name": "stdout",
          "text": [
            "The factorial of 5 is 120\n"
          ]
        }
      ]
    },
    {
      "cell_type": "code",
      "source": [
        "# check if the number is negative, positive or zero\n",
        "num=5\n",
        "factorial = 1\n",
        "\n",
        "if num < 0:\n",
        "   print(\"Sorry, factorial does not exist for negative numbers\")\n",
        "elif num == 0:\n",
        "   print(\"The factorial of 0 is 1\")\n",
        "else:\n",
        "   for i in range(1,num + 1):\n",
        "    factorial=factorial*i\n",
        "\n",
        "print(\"The factorial of\",num,\"is\",factorial)\n",
        "  "
      ],
      "metadata": {
        "id": "yuVbMnzZh-aX",
        "outputId": "eb3696f9-4b6e-4957-9267-70c589da6e0d",
        "colab": {
          "base_uri": "https://localhost:8080/"
        }
      },
      "execution_count": 16,
      "outputs": [
        {
          "output_type": "stream",
          "name": "stdout",
          "text": [
            "The factorial of 5 is 120\n"
          ]
        }
      ]
    },
    {
      "cell_type": "code",
      "source": [
        "a=0.1\n",
        "b=0.2\n",
        "c=0.3\n",
        "if ((a + ( b + c))-((a+b)+c)==0 ):\n",
        "    print(\"true\")\n",
        "else:\n",
        "  print(\"false\")"
      ],
      "metadata": {
        "id": "lgIW-Nl3ivR3",
        "outputId": "f2b6b076-7ce6-4800-edf7-b3cbd5c6ea79",
        "colab": {
          "base_uri": "https://localhost:8080/"
        }
      },
      "execution_count": 24,
      "outputs": [
        {
          "output_type": "stream",
          "name": "stdout",
          "text": [
            "false\n"
          ]
        }
      ]
    },
    {
      "cell_type": "markdown",
      "source": [
        "I guess that addition is not associative!"
      ],
      "metadata": {
        "id": "DhpWJJfOlO9g"
      }
    }
  ]
}